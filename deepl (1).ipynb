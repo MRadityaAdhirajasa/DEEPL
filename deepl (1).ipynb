{
  "nbformat": 4,
  "nbformat_minor": 0,
  "metadata": {
    "colab": {
      "provenance": [],
      "gpuType": "T4"
    },
    "kernelspec": {
      "name": "python3",
      "display_name": "Python 3"
    },
    "language_info": {
      "name": "python"
    },
    "accelerator": "GPU"
  },
  "cells": [
    {
      "cell_type": "markdown",
      "source": [
        "# Klasifikasi Kupu-kupu"
      ],
      "metadata": {
        "id": "BWnHFs8vJf5N"
      }
    },
    {
      "cell_type": "markdown",
      "source": [
        "# Model HRNet"
      ],
      "metadata": {
        "id": "-7o4YTLMVQ4J"
      }
    },
    {
      "cell_type": "markdown",
      "source": [
        "## Library"
      ],
      "metadata": {
        "id": "V6r8c0NXJk12"
      }
    },
    {
      "cell_type": "code",
      "source": [
        "import os\n",
        "import torch\n",
        "from torch.utils.data import random_split, DataLoader\n",
        "from torchvision import datasets, transforms\n",
        "import timm\n",
        "import torch.nn as nn\n",
        "from torch.optim import Adam\n",
        "from torch.nn import CrossEntropyLoss\n",
        "from sklearn.metrics import classification_report"
      ],
      "metadata": {
        "id": "iumIpsgWCmrt"
      },
      "execution_count": 19,
      "outputs": []
    },
    {
      "cell_type": "markdown",
      "source": [
        "## Load Data"
      ],
      "metadata": {
        "id": "TXsUEuKJJnzD"
      }
    },
    {
      "cell_type": "code",
      "source": [
        "# from google.colab import drive\n",
        "# drive.mount('/content/drive')"
      ],
      "metadata": {
        "id": "RzVx9F33--Wg"
      },
      "execution_count": 21,
      "outputs": []
    },
    {
      "cell_type": "code",
      "source": [
        "dataset_path = \"/content/kupu\""
      ],
      "metadata": {
        "id": "IRvI3h5P_QO7"
      },
      "execution_count": 22,
      "outputs": []
    },
    {
      "cell_type": "markdown",
      "source": [
        "## Preprocessing"
      ],
      "metadata": {
        "id": "b2UCaekCJpvL"
      }
    },
    {
      "cell_type": "code",
      "source": [
        "# Transform data\n",
        "transform = transforms.Compose([\n",
        "    transforms.Resize((224, 224)),\n",
        "    transforms.ToTensor(),\n",
        "    transforms.Normalize(mean=[0.485, 0.456, 0.406], std=[0.229, 0.224, 0.225]),\n",
        "])"
      ],
      "metadata": {
        "id": "Qkw2TF6nCsOZ"
      },
      "execution_count": 23,
      "outputs": []
    },
    {
      "cell_type": "code",
      "source": [
        "dataset = datasets.ImageFolder(root=dataset_path, transform=transform)\n",
        "print(f\"Dataset Size: {len(dataset)}\")"
      ],
      "metadata": {
        "colab": {
          "base_uri": "https://localhost:8080/"
        },
        "id": "NkyOl95WC5Gg",
        "outputId": "f0d36fc1-0aaa-435b-9431-f5c6b71d69b8"
      },
      "execution_count": 24,
      "outputs": [
        {
          "output_type": "stream",
          "name": "stdout",
          "text": [
            "Dataset Size: 800\n"
          ]
        }
      ]
    },
    {
      "cell_type": "code",
      "source": [
        "# Membagi dataset menjadi train dan test\n",
        "train_size = int(0.8 * len(dataset))  # 80% untuk training\n",
        "test_size = len(dataset) - train_size  # 20% untuk testing\n",
        "train_dataset, test_dataset = random_split(dataset, [train_size, test_size])"
      ],
      "metadata": {
        "id": "rPAOKxFpC6Z_"
      },
      "execution_count": 25,
      "outputs": []
    },
    {
      "cell_type": "code",
      "source": [
        "# DataLoader untuk train dan test\n",
        "batch_size = 16\n",
        "train_loader = DataLoader(train_dataset, batch_size=batch_size, shuffle=True)\n",
        "test_loader = DataLoader(test_dataset, batch_size=batch_size, shuffle=False)"
      ],
      "metadata": {
        "id": "x7cdBTBODDTJ"
      },
      "execution_count": 26,
      "outputs": []
    },
    {
      "cell_type": "code",
      "source": [
        "# Label mapping\n",
        "label_map = dataset.class_to_idx\n",
        "print(f\"Label Mapping: {label_map}\")"
      ],
      "metadata": {
        "colab": {
          "base_uri": "https://localhost:8080/"
        },
        "id": "V4MXOIueDGGB",
        "outputId": "9938b1a9-097d-4899-feba-e5d98065417e"
      },
      "execution_count": 27,
      "outputs": [
        {
          "output_type": "stream",
          "name": "stdout",
          "text": [
            "Label Mapping: {'kupu_batik_cap': 0, 'kupu_harimau_kuning_hijau': 1, 'kupu_hijau_biru': 2, 'kupu_jarak': 3, 'kupu_jojo': 4, 'kupu_pantat_merah': 5, 'kupu_raja_helena': 6, 'kupu_raja_limau': 7}\n"
          ]
        }
      ]
    },
    {
      "cell_type": "markdown",
      "source": [
        "## Modelling"
      ],
      "metadata": {
        "id": "Qo-fFHRrKHh0"
      }
    },
    {
      "cell_type": "code",
      "source": [
        "# Muat model HRNet pre-trained\n",
        "model = timm.create_model('hrnet_w18', pretrained=True)"
      ],
      "metadata": {
        "id": "KSrChqOzDHI_"
      },
      "execution_count": null,
      "outputs": []
    },
    {
      "cell_type": "code",
      "source": [
        "# Jumlah Kelas\n",
        "num_classes = len(label_map)\n",
        "model.fc = nn.Linear(model.num_features, num_classes)"
      ],
      "metadata": {
        "id": "-7NKdXWkDMjo"
      },
      "execution_count": null,
      "outputs": []
    },
    {
      "cell_type": "code",
      "source": [
        "# Pindahkan model ke device\n",
        "device = torch.device(\"cuda\" if torch.cuda.is_available() else \"cpu\")\n",
        "model = model.to(device)"
      ],
      "metadata": {
        "id": "C5UNK8uKDeYM"
      },
      "execution_count": null,
      "outputs": []
    },
    {
      "cell_type": "code",
      "source": [
        "# Optimizer\n",
        "criterion = CrossEntropyLoss()\n",
        "optimizer = Adam(model.parameters(), lr=1e-4)"
      ],
      "metadata": {
        "id": "h3k818CUDgXZ"
      },
      "execution_count": null,
      "outputs": []
    },
    {
      "cell_type": "code",
      "source": [
        "def train_model(model, train_loader, test_loader, optimizer, criterion, device, num_epochs=5):\n",
        "    train_losses = []\n",
        "    test_accuracies = []\n",
        "\n",
        "    for epoch in range(num_epochs):\n",
        "        model.train()\n",
        "        total_loss = 0\n",
        "        correct = 0\n",
        "        total = 0\n",
        "\n",
        "        for images, labels in train_loader:\n",
        "            images, labels = images.to(device), labels.to(device)\n",
        "\n",
        "            outputs = model(images)\n",
        "            loss = criterion(outputs, labels)\n",
        "\n",
        "            optimizer.zero_grad()\n",
        "            loss.backward()\n",
        "            optimizer.step()\n",
        "\n",
        "            total_loss += loss.item()\n",
        "\n",
        "            _, predicted = torch.max(outputs, 1)\n",
        "            correct += (predicted == labels).sum().item()\n",
        "            total += labels.size(0)\n",
        "\n",
        "        train_loss = total_loss / len(train_loader)\n",
        "        train_accuracy = correct / total * 100\n",
        "        train_losses.append(train_loss)\n",
        "\n",
        "        test_accuracy, precision, recall, f1 = evaluate_model(model, test_loader, device)\n",
        "        test_accuracies.append(test_accuracy)\n",
        "\n",
        "        print(f\"Epoch {epoch + 1}/{num_epochs}, Loss: {train_loss:.4f}, \"\n",
        "              f\"Train Accuracy: {train_accuracy:.2f}%, Test Accuracy: {test_accuracy:.2f}%\")\n",
        "\n",
        "    return train_losses, test_accuracies"
      ],
      "metadata": {
        "id": "086MS-GwDnIE"
      },
      "execution_count": null,
      "outputs": []
    },
    {
      "cell_type": "code",
      "source": [
        "def evaluate_model(model, dataloader, device):\n",
        "    model.eval()\n",
        "    correct = 0\n",
        "    total = 0\n",
        "    all_labels = []\n",
        "    all_predictions = []\n",
        "\n",
        "    with torch.no_grad():\n",
        "        for images, labels in dataloader:\n",
        "            images, labels = images.to(device), labels.to(device)\n",
        "\n",
        "            outputs = model(images)\n",
        "            _, predicted = torch.max(outputs, 1)\n",
        "\n",
        "            all_labels.extend(labels.cpu().numpy())\n",
        "            all_predictions.extend(predicted.cpu().numpy())\n",
        "\n",
        "            correct += (predicted == labels).sum().item()\n",
        "            total += labels.size(0)\n",
        "\n",
        "    accuracy = correct / total * 100\n",
        "    report = classification_report(all_labels, all_predictions, target_names=list(label_map.keys()), output_dict=True)\n",
        "    precision = report['macro avg']['precision']\n",
        "    recall = report['macro avg']['recall']\n",
        "    f1 = report['macro avg']['f1-score']\n",
        "\n",
        "    return accuracy, precision, recall, f1"
      ],
      "metadata": {
        "id": "y9RHNcLTDtBQ"
      },
      "execution_count": null,
      "outputs": []
    },
    {
      "cell_type": "code",
      "source": [
        "num_epochs = 5\n",
        "train_losses, test_accuracies = train_model(\n",
        "    model, train_loader, test_loader, optimizer, criterion, device, num_epochs)"
      ],
      "metadata": {
        "colab": {
          "base_uri": "https://localhost:8080/"
        },
        "id": "0k2SqPyTD1VQ",
        "outputId": "e2c822a6-2f8f-461a-ee81-378e07a811f6"
      },
      "execution_count": null,
      "outputs": [
        {
          "output_type": "stream",
          "name": "stdout",
          "text": [
            "Epoch 1/5, Loss: 1.3439, Train Accuracy: 83.91%, Test Accuracy: 100.00%\n",
            "Epoch 2/5, Loss: 0.0221, Train Accuracy: 99.69%, Test Accuracy: 100.00%\n",
            "Epoch 3/5, Loss: 0.0148, Train Accuracy: 99.84%, Test Accuracy: 100.00%\n",
            "Epoch 4/5, Loss: 0.0092, Train Accuracy: 99.84%, Test Accuracy: 100.00%\n",
            "Epoch 5/5, Loss: 0.0031, Train Accuracy: 100.00%, Test Accuracy: 100.00%\n"
          ]
        }
      ]
    },
    {
      "cell_type": "code",
      "source": [
        "model_save_path = \"/content/hrnet_model.pth\"\n",
        "torch.save(model.state_dict(), model_save_path)\n",
        "print(f\"Model saved to {model_save_path}\")"
      ],
      "metadata": {
        "colab": {
          "base_uri": "https://localhost:8080/"
        },
        "id": "m1XWu0-DLZYI",
        "outputId": "24555854-b247-47ca-fcd2-59cc87460a67"
      },
      "execution_count": null,
      "outputs": [
        {
          "output_type": "stream",
          "name": "stdout",
          "text": [
            "Model saved to /content/hrnet_model.pth\n"
          ]
        }
      ]
    },
    {
      "cell_type": "code",
      "source": [
        "import matplotlib.pyplot as plt\n",
        "\n",
        "fig, (ax1, ax2) = plt.subplots(1, 2, figsize=(12, 5))\n",
        "\n",
        "ax1.plot(range(1, num_epochs + 1), train_losses, color='tab:blue', label='Train Loss')\n",
        "ax1.set_xlabel('Epochs')\n",
        "ax1.set_ylabel('Loss')\n",
        "ax1.set_title('Train Loss')\n",
        "ax1.legend()\n",
        "\n",
        "ax2.plot(range(1, num_epochs + 1), test_accuracies, color='tab:green', label='Test Accuracy')\n",
        "ax2.set_xlabel('Epochs')\n",
        "ax2.set_ylabel('Accuracy (%)')\n",
        "ax2.set_title('Test Accuracy')\n",
        "ax2.legend()\n",
        "\n",
        "fig.tight_layout()\n",
        "\n",
        "plt.show()\n"
      ],
      "metadata": {
        "colab": {
          "base_uri": "https://localhost:8080/",
          "height": 405
        },
        "id": "RG0KhHkfTEVj",
        "outputId": "9053c4ba-21c4-43f6-fe6d-67affd77d0fe"
      },
      "execution_count": null,
      "outputs": [
        {
          "output_type": "display_data",
          "data": {
            "text/plain": [
              "<Figure size 1200x500 with 2 Axes>"
            ],
            "image/png": "[encoded data removed]"
          },
          "metadata": {}
        }
      ]
    },
    {
      "cell_type": "code",
      "source": [
        "final_accuracy, final_precision, final_recall, final_f1 = evaluate_model(model, test_loader, device)\n",
        "\n",
        "print(f\"Final Test Accuracy: {final_accuracy:.2f}%\")\n",
        "print(f\"Final Precision: {final_precision:.2f}%\")\n",
        "print(f\"Final Recall: {final_recall:.2f}%\")\n",
        "print(f\"Final F1-Score: {final_f1:.2f}%\")"
      ],
      "metadata": {
        "colab": {
          "base_uri": "https://localhost:8080/"
        },
        "id": "fcGG1ziDD39k",
        "outputId": "a113e24c-b7ca-4d4a-cb40-d16bac6acdbe"
      },
      "execution_count": null,
      "outputs": [
        {
          "output_type": "stream",
          "name": "stdout",
          "text": [
            "Final Test Accuracy: 100.00%\n",
            "Final Precision: 1.00%\n",
            "Final Recall: 1.00%\n",
            "Final F1-Score: 1.00%\n"
          ]
        }
      ]
    },
    {
      "cell_type": "markdown",
      "source": [
        "# Model ConvNeXt"
      ],
      "metadata": {
        "id": "PPkCAcm5UDsk"
      }
    },
    {
      "cell_type": "markdown",
      "source": [
        "## Library"
      ],
      "metadata": {
        "id": "uS_bF9R4U_pI"
      }
    },
    {
      "cell_type": "code",
      "source": [
        "!unzip kupu.zip"
      ],
      "metadata": {
        "colab": {
          "base_uri": "https://localhost:8080/"
        },
        "collapsed": true,
        "id": "lnICUSSNaqi3",
        "outputId": "e6586528-a0eb-4021-a7c4-3404f74f5cd4"
      },
      "execution_count": 4,
      "outputs": [
        {
          "output_type": "stream",
          "name": "stdout",
          "text": [
            "Archive:  kupu.zip\n",
            "   creating: kupu/\n",
            "   creating: kupu/kupu_batik_cap/\n",
            "  inflating: kupu/kupu_batik_cap/Kupu Batik Cap-1.JPG  \n",
            "  inflating: kupu/kupu_batik_cap/Kupu Batik Cap-10.JPG  \n",
            "  inflating: kupu/kupu_batik_cap/Kupu Batik Cap-100.jpg  \n",
            "  inflating: kupu/kupu_batik_cap/Kupu Batik Cap-11.JPG  \n",
            "  inflating: kupu/kupu_batik_cap/Kupu Batik Cap-12.JPG  \n",
            "  inflating: kupu/kupu_batik_cap/Kupu Batik Cap-13.JPG  \n",
            "  inflating: kupu/kupu_batik_cap/Kupu Batik Cap-14.JPG  \n",
            "  inflating: kupu/kupu_batik_cap/Kupu Batik Cap-15.JPG  \n",
            "  inflating: kupu/kupu_batik_cap/Kupu Batik Cap-16.JPG  \n",
            "  inflating: kupu/kupu_batik_cap/Kupu Batik Cap-17.JPG  \n",
            "  inflating: kupu/kupu_batik_cap/Kupu Batik Cap-18.jpg  \n",
            "  inflating: kupu/kupu_batik_cap/Kupu Batik Cap-19.jpg  \n",
            "  inflating: kupu/kupu_batik_cap/Kupu Batik Cap-2.JPG  \n",
            "  inflating: kupu/kupu_batik_cap/Kupu Batik Cap-20.jpg  \n",
            "  inflating: kupu/kupu_batik_cap/Kupu Batik Cap-21.jpg  \n",
            "  inflating: kupu/kupu_batik_cap/Kupu Batik Cap-22.JPG  \n",
            "  inflating: kupu/kupu_batik_cap/Kupu Batik Cap-23.JPG  \n",
            "  inflating: kupu/kupu_batik_cap/Kupu Batik Cap-24.jpg  \n",
            "  inflating: kupu/kupu_batik_cap/Kupu Batik Cap-25.jpg  \n",
            "  inflating: kupu/kupu_batik_cap/Kupu Batik Cap-26.jpg  \n",
            "  inflating: kupu/kupu_batik_cap/Kupu Batik Cap-27.jpg  \n",
            "  inflating: kupu/kupu_batik_cap/Kupu Batik Cap-28.JPG  \n",
            "  inflating: kupu/kupu_batik_cap/Kupu Batik Cap-29.JPG  \n",
            "  inflating: kupu/kupu_batik_cap/Kupu Batik Cap-3.JPG  \n",
            "  inflating: kupu/kupu_batik_cap/Kupu Batik Cap-30.jpg  \n",
            "  inflating: kupu/kupu_batik_cap/Kupu Batik Cap-31.JPG  \n",
            "  inflating: kupu/kupu_batik_cap/Kupu Batik Cap-32.jpg  \n",
            "  inflating: kupu/kupu_batik_cap/Kupu Batik Cap-33.jpg  \n",
            "  inflating: kupu/kupu_batik_cap/Kupu Batik Cap-34.jpg  \n",
            "  inflating: kupu/kupu_batik_cap/Kupu Batik Cap-35.jpg  \n",
            "  inflating: kupu/kupu_batik_cap/Kupu Batik Cap-36.jpg  \n",
            "  inflating: kupu/kupu_batik_cap/Kupu Batik Cap-37.jpg  \n",
            "  inflating: kupu/kupu_batik_cap/Kupu Batik Cap-38.jpg  \n",
            "  inflating: kupu/kupu_batik_cap/Kupu Batik Cap-39.JPG  \n",
            "  inflating: kupu/kupu_batik_cap/Kupu Batik Cap-4.JPG  \n",
            "  inflating: kupu/kupu_batik_cap/Kupu Batik Cap-40.jpg  \n",
            "  inflating: kupu/kupu_batik_cap/Kupu Batik Cap-41.JPG  \n",
            "  inflating: kupu/kupu_batik_cap/Kupu Batik Cap-42.JPG  \n",
            "  inflating: kupu/kupu_batik_cap/Kupu Batik Cap-43.JPG  \n",
            "  inflating: kupu/kupu_batik_cap/Kupu Batik Cap-44.JPG  \n",
            "  inflating: kupu/kupu_batik_cap/Kupu Batik Cap-45.JPG  \n",
            "  inflating: kupu/kupu_batik_cap/Kupu Batik Cap-46.JPG  \n",
            "  inflating: kupu/kupu_batik_cap/Kupu Batik Cap-47.JPG  \n",
            "  inflating: kupu/kupu_batik_cap/Kupu Batik Cap-48.JPG  \n",
            "  inflating: kupu/kupu_batik_cap/Kupu Batik Cap-49.JPG  \n",
            "  inflating: kupu/kupu_batik_cap/Kupu Batik Cap-5.JPG  \n",
            "  inflating: kupu/kupu_batik_cap/Kupu Batik Cap-50.JPG  \n",
            "  inflating: kupu/kupu_batik_cap/Kupu Batik Cap-51.JPG  \n",
            "  inflating: kupu/kupu_batik_cap/Kupu Batik Cap-52.JPG  \n",
            "  inflating: kupu/kupu_batik_cap/Kupu Batik Cap-53.JPG  \n",
            "  inflating: kupu/kupu_batik_cap/Kupu Batik Cap-54.JPG  \n",
            "  inflating: kupu/kupu_batik_cap/Kupu Batik Cap-55.JPG  \n",
            "  inflating: kupu/kupu_batik_cap/Kupu Batik Cap-56.JPG  \n",
            "  inflating: kupu/kupu_batik_cap/Kupu Batik Cap-57.JPG  \n",
            "  inflating: kupu/kupu_batik_cap/Kupu Batik Cap-58.jpg  \n",
            "  inflating: kupu/kupu_batik_cap/Kupu Batik Cap-59.jpg  \n",
            "  inflating: kupu/kupu_batik_cap/Kupu Batik Cap-6.JPG  \n",
            "  inflating: kupu/kupu_batik_cap/Kupu Batik Cap-60.jpg  \n",
            "  inflating: kupu/kupu_batik_cap/Kupu Batik Cap-61.jpg  \n",
            "  inflating: kupu/kupu_batik_cap/Kupu Batik Cap-62.JPG  \n",
            "  inflating: kupu/kupu_batik_cap/Kupu Batik Cap-63.JPG  \n",
            "  inflating: kupu/kupu_batik_cap/Kupu Batik Cap-64.jpg  \n",
            "  inflating: kupu/kupu_batik_cap/Kupu Batik Cap-65.jpg  \n",
            "  inflating: kupu/kupu_batik_cap/Kupu Batik Cap-66.jpg  \n",
            "  inflating: kupu/kupu_batik_cap/Kupu Batik Cap-67.jpg  \n",
            "  inflating: kupu/kupu_batik_cap/Kupu Batik Cap-68.JPG  \n",
            "  inflating: kupu/kupu_batik_cap/Kupu Batik Cap-69.JPG  \n",
            "  inflating: kupu/kupu_batik_cap/Kupu Batik Cap-7.JPG  \n",
            "  inflating: kupu/kupu_batik_cap/Kupu Batik Cap-70.jpg  \n",
            "  inflating: kupu/kupu_batik_cap/Kupu Batik Cap-71.JPG  \n",
            "  inflating: kupu/kupu_batik_cap/Kupu Batik Cap-72.jpg  \n",
            "  inflating: kupu/kupu_batik_cap/Kupu Batik Cap-73.jpg  \n",
            "  inflating: kupu/kupu_batik_cap/Kupu Batik Cap-74.jpg  \n",
            "  inflating: kupu/kupu_batik_cap/Kupu Batik Cap-75.jpg  \n",
            "  inflating: kupu/kupu_batik_cap/Kupu Batik Cap-76.jpg  \n",
            "  inflating: kupu/kupu_batik_cap/Kupu Batik Cap-77.jpg  \n",
            "  inflating: kupu/kupu_batik_cap/Kupu Batik Cap-78.jpg  \n",
            "  inflating: kupu/kupu_batik_cap/Kupu Batik Cap-79.JPG  \n",
            "  inflating: kupu/kupu_batik_cap/Kupu Batik Cap-8.JPG  \n",
            "  inflating: kupu/kupu_batik_cap/Kupu Batik Cap-80.jpg  \n",
            "  inflating: kupu/kupu_batik_cap/Kupu Batik Cap-81.JPG  \n",
            "  inflating: kupu/kupu_batik_cap/Kupu Batik Cap-82.JPG  \n",
            "  inflating: kupu/kupu_batik_cap/Kupu Batik Cap-83.JPG  \n",
            "  inflating: kupu/kupu_batik_cap/Kupu Batik Cap-84.JPG  \n",
            "  inflating: kupu/kupu_batik_cap/Kupu Batik Cap-85.JPG  \n",
            "  inflating: kupu/kupu_batik_cap/Kupu Batik Cap-86.jpg  \n",
            "  inflating: kupu/kupu_batik_cap/Kupu Batik Cap-87.jpg  \n",
            "  inflating: kupu/kupu_batik_cap/Kupu Batik Cap-88.jpg  \n",
            "  inflating: kupu/kupu_batik_cap/Kupu Batik Cap-89.JPG  \n",
            "  inflating: kupu/kupu_batik_cap/Kupu Batik Cap-9.JPG  \n",
            "  inflating: kupu/kupu_batik_cap/Kupu Batik Cap-90.jpg  \n",
            "  inflating: kupu/kupu_batik_cap/Kupu Batik Cap-91.jpg  \n",
            "  inflating: kupu/kupu_batik_cap/Kupu Batik Cap-92.jpg  \n",
            "  inflating: kupu/kupu_batik_cap/Kupu Batik Cap-93.jpg  \n",
            "  inflating: kupu/kupu_batik_cap/Kupu Batik Cap-94.jpg  \n",
            "  inflating: kupu/kupu_batik_cap/Kupu Batik Cap-95.jpg  \n",
            "  inflating: kupu/kupu_batik_cap/Kupu Batik Cap-96.jpg  \n",
            "  inflating: kupu/kupu_batik_cap/Kupu Batik Cap-97.JPG  \n",
            "  inflating: kupu/kupu_batik_cap/Kupu Batik Cap-98.jpg  \n",
            "  inflating: kupu/kupu_batik_cap/Kupu Batik Cap-99.jpg  \n",
            "   creating: kupu/kupu_harimau_kuning_hijau/\n",
            "  inflating: kupu/kupu_harimau_kuning_hijau/Kupu Harimau Kuning Hijau-1.JPG  \n",
            "  inflating: kupu/kupu_harimau_kuning_hijau/Kupu Harimau Kuning Hijau-10.JPG  \n",
            "  inflating: kupu/kupu_harimau_kuning_hijau/Kupu Harimau Kuning Hijau-100.JPG  \n",
            "  inflating: kupu/kupu_harimau_kuning_hijau/Kupu Harimau Kuning Hijau-11.JPG  \n",
            "  inflating: kupu/kupu_harimau_kuning_hijau/Kupu Harimau Kuning Hijau-12.JPG  \n",
            "  inflating: kupu/kupu_harimau_kuning_hijau/Kupu Harimau Kuning Hijau-13.JPG  \n",
            "  inflating: kupu/kupu_harimau_kuning_hijau/Kupu Harimau Kuning Hijau-14.JPG  \n",
            "  inflating: kupu/kupu_harimau_kuning_hijau/Kupu Harimau Kuning Hijau-15.JPG  \n",
            "  inflating: kupu/kupu_harimau_kuning_hijau/Kupu Harimau Kuning Hijau-16.JPG  \n",
            "  inflating: kupu/kupu_harimau_kuning_hijau/Kupu Harimau Kuning Hijau-17.JPG  \n",
            "  inflating: kupu/kupu_harimau_kuning_hijau/Kupu Harimau Kuning Hijau-18.JPG  \n",
            "  inflating: kupu/kupu_harimau_kuning_hijau/Kupu Harimau Kuning Hijau-19.JPG  \n",
            "  inflating: kupu/kupu_harimau_kuning_hijau/Kupu Harimau Kuning Hijau-2.JPG  \n",
            "  inflating: kupu/kupu_harimau_kuning_hijau/Kupu Harimau Kuning Hijau-20.JPG  \n",
            "  inflating: kupu/kupu_harimau_kuning_hijau/Kupu Harimau Kuning Hijau-21.JPG  \n",
            "  inflating: kupu/kupu_harimau_kuning_hijau/Kupu Harimau Kuning Hijau-22.JPG  \n",
            "  inflating: kupu/kupu_harimau_kuning_hijau/Kupu Harimau Kuning Hijau-23.JPG  \n",
            "  inflating: kupu/kupu_harimau_kuning_hijau/Kupu Harimau Kuning Hijau-24.JPG  \n",
            "  inflating: kupu/kupu_harimau_kuning_hijau/Kupu Harimau Kuning Hijau-25.JPG  \n",
            "  inflating: kupu/kupu_harimau_kuning_hijau/Kupu Harimau Kuning Hijau-26.JPG  \n",
            "  inflating: kupu/kupu_harimau_kuning_hijau/Kupu Harimau Kuning Hijau-27.JPG  \n",
            "  inflating: kupu/kupu_harimau_kuning_hijau/Kupu Harimau Kuning Hijau-28.JPG  \n",
            "  inflating: kupu/kupu_harimau_kuning_hijau/Kupu Harimau Kuning Hijau-29.JPG  \n",
            "  inflating: kupu/kupu_harimau_kuning_hijau/Kupu Harimau Kuning Hijau-3.JPG  \n",
            "  inflating: kupu/kupu_harimau_kuning_hijau/Kupu Harimau Kuning Hijau-30.JPG  \n",
            "  inflating: kupu/kupu_harimau_kuning_hijau/Kupu Harimau Kuning Hijau-31.JPG  \n",
            "  inflating: kupu/kupu_harimau_kuning_hijau/Kupu Harimau Kuning Hijau-32.JPG  \n",
            "  inflating: kupu/kupu_harimau_kuning_hijau/Kupu Harimau Kuning Hijau-33.JPG  \n",
            "  inflating: kupu/kupu_harimau_kuning_hijau/Kupu Harimau Kuning Hijau-34.JPG  \n",
            "  inflating: kupu/kupu_harimau_kuning_hijau/Kupu Harimau Kuning Hijau-35.JPG  \n",
            "  inflating: kupu/kupu_harimau_kuning_hijau/Kupu Harimau Kuning Hijau-36.JPG  \n",
            "  inflating: kupu/kupu_harimau_kuning_hijau/Kupu Harimau Kuning Hijau-37.JPG  \n",
            "  inflating: kupu/kupu_harimau_kuning_hijau/Kupu Harimau Kuning Hijau-38.JPG  \n",
            "  inflating: kupu/kupu_harimau_kuning_hijau/Kupu Harimau Kuning Hijau-39.JPG  \n",
            "  inflating: kupu/kupu_harimau_kuning_hijau/Kupu Harimau Kuning Hijau-4.JPG  \n",
            "  inflating: kupu/kupu_harimau_kuning_hijau/Kupu Harimau Kuning Hijau-40.JPG  \n",
            "  inflating: kupu/kupu_harimau_kuning_hijau/Kupu Harimau Kuning Hijau-41.JPG  \n",
            "  inflating: kupu/kupu_harimau_kuning_hijau/Kupu Harimau Kuning Hijau-42.JPG  \n",
            "  inflating: kupu/kupu_harimau_kuning_hijau/Kupu Harimau Kuning Hijau-43.JPG  \n",
            "  inflating: kupu/kupu_harimau_kuning_hijau/Kupu Harimau Kuning Hijau-44.JPG  \n",
            "  inflating: kupu/kupu_harimau_kuning_hijau/Kupu Harimau Kuning Hijau-45.JPG  \n",
            "  inflating: kupu/kupu_harimau_kuning_hijau/Kupu Harimau Kuning Hijau-46.JPG  \n",
            "  inflating: kupu/kupu_harimau_kuning_hijau/Kupu Harimau Kuning Hijau-47.JPG  \n",
            "  inflating: kupu/kupu_harimau_kuning_hijau/Kupu Harimau Kuning Hijau-48.JPG  \n",
            "  inflating: kupu/kupu_harimau_kuning_hijau/Kupu Harimau Kuning Hijau-49.JPG  \n",
            "  inflating: kupu/kupu_harimau_kuning_hijau/Kupu Harimau Kuning Hijau-5.JPG  \n",
            "  inflating: kupu/kupu_harimau_kuning_hijau/Kupu Harimau Kuning Hijau-50.JPG  \n",
            "  inflating: kupu/kupu_harimau_kuning_hijau/Kupu Harimau Kuning Hijau-51.JPG  \n",
            "  inflating: kupu/kupu_harimau_kuning_hijau/Kupu Harimau Kuning Hijau-52.JPG  \n",
            "  inflating: kupu/kupu_harimau_kuning_hijau/Kupu Harimau Kuning Hijau-53.JPG  \n",
            "  inflating: kupu/kupu_harimau_kuning_hijau/Kupu Harimau Kuning Hijau-54.JPG  \n",
            "  inflating: kupu/kupu_harimau_kuning_hijau/Kupu Harimau Kuning Hijau-55.JPG  \n",
            "  inflating: kupu/kupu_harimau_kuning_hijau/Kupu Harimau Kuning Hijau-56.JPG  \n",
            "  inflating: kupu/kupu_harimau_kuning_hijau/Kupu Harimau Kuning Hijau-57.JPG  \n",
            "  inflating: kupu/kupu_harimau_kuning_hijau/Kupu Harimau Kuning Hijau-58.JPG  \n",
            "  inflating: kupu/kupu_harimau_kuning_hijau/Kupu Harimau Kuning Hijau-59.JPG  \n",
            "  inflating: kupu/kupu_harimau_kuning_hijau/Kupu Harimau Kuning Hijau-6.JPG  \n",
            "  inflating: kupu/kupu_harimau_kuning_hijau/Kupu Harimau Kuning Hijau-60.JPG  \n",
            "  inflating: kupu/kupu_harimau_kuning_hijau/Kupu Harimau Kuning Hijau-61.JPG  \n",
            "  inflating: kupu/kupu_harimau_kuning_hijau/Kupu Harimau Kuning Hijau-62.JPG  \n",
            "  inflating: kupu/kupu_harimau_kuning_hijau/Kupu Harimau Kuning Hijau-63.JPG  \n",
            "  inflating: kupu/kupu_harimau_kuning_hijau/Kupu Harimau Kuning Hijau-64.JPG  \n",
            "  inflating: kupu/kupu_harimau_kuning_hijau/Kupu Harimau Kuning Hijau-65.JPG  \n",
            "  inflating: kupu/kupu_harimau_kuning_hijau/Kupu Harimau Kuning Hijau-66.JPG  \n",
            "  inflating: kupu/kupu_harimau_kuning_hijau/Kupu Harimau Kuning Hijau-67.JPG  \n",
            "  inflating: kupu/kupu_harimau_kuning_hijau/Kupu Harimau Kuning Hijau-68.JPG  \n",
            "  inflating: kupu/kupu_harimau_kuning_hijau/Kupu Harimau Kuning Hijau-69.JPG  \n",
            "  inflating: kupu/kupu_harimau_kuning_hijau/Kupu Harimau Kuning Hijau-7.JPG  \n",
            "  inflating: kupu/kupu_harimau_kuning_hijau/Kupu Harimau Kuning Hijau-70.JPG  \n",
            "  inflating: kupu/kupu_harimau_kuning_hijau/Kupu Harimau Kuning Hijau-71.JPG  \n",
            "  inflating: kupu/kupu_harimau_kuning_hijau/Kupu Harimau Kuning Hijau-72.JPG  \n",
            "  inflating: kupu/kupu_harimau_kuning_hijau/Kupu Harimau Kuning Hijau-73.JPG  \n",
            "  inflating: kupu/kupu_harimau_kuning_hijau/Kupu Harimau Kuning Hijau-74.JPG  \n",
            "  inflating: kupu/kupu_harimau_kuning_hijau/Kupu Harimau Kuning Hijau-75.JPG  \n",
            "  inflating: kupu/kupu_harimau_kuning_hijau/Kupu Harimau Kuning Hijau-76.JPG  \n",
            "  inflating: kupu/kupu_harimau_kuning_hijau/Kupu Harimau Kuning Hijau-77.JPG  \n",
            "  inflating: kupu/kupu_harimau_kuning_hijau/Kupu Harimau Kuning Hijau-78.JPG  \n",
            "  inflating: kupu/kupu_harimau_kuning_hijau/Kupu Harimau Kuning Hijau-79.JPG  \n",
            "  inflating: kupu/kupu_harimau_kuning_hijau/Kupu Harimau Kuning Hijau-8.JPG  \n",
            "  inflating: kupu/kupu_harimau_kuning_hijau/Kupu Harimau Kuning Hijau-80.JPG  \n",
            "  inflating: kupu/kupu_harimau_kuning_hijau/Kupu Harimau Kuning Hijau-81.JPG  \n",
            "  inflating: kupu/kupu_harimau_kuning_hijau/Kupu Harimau Kuning Hijau-82.JPG  \n",
            "  inflating: kupu/kupu_harimau_kuning_hijau/Kupu Harimau Kuning Hijau-83.JPG  \n",
            "  inflating: kupu/kupu_harimau_kuning_hijau/Kupu Harimau Kuning Hijau-84.JPG  \n",
            "  inflating: kupu/kupu_harimau_kuning_hijau/Kupu Harimau Kuning Hijau-85.JPG  \n",
            "  inflating: kupu/kupu_harimau_kuning_hijau/Kupu Harimau Kuning Hijau-86.JPG  \n",
            "  inflating: kupu/kupu_harimau_kuning_hijau/Kupu Harimau Kuning Hijau-87.JPG  \n",
            "  inflating: kupu/kupu_harimau_kuning_hijau/Kupu Harimau Kuning Hijau-88.JPG  \n",
            "  inflating: kupu/kupu_harimau_kuning_hijau/Kupu Harimau Kuning Hijau-89.JPG  \n",
            "  inflating: kupu/kupu_harimau_kuning_hijau/Kupu Harimau Kuning Hijau-9.JPG  \n",
            "  inflating: kupu/kupu_harimau_kuning_hijau/Kupu Harimau Kuning Hijau-90.JPG  \n",
            "  inflating: kupu/kupu_harimau_kuning_hijau/Kupu Harimau Kuning Hijau-91.JPG  \n",
            "  inflating: kupu/kupu_harimau_kuning_hijau/Kupu Harimau Kuning Hijau-92.JPG  \n",
            "  inflating: kupu/kupu_harimau_kuning_hijau/Kupu Harimau Kuning Hijau-93.JPG  \n",
            "  inflating: kupu/kupu_harimau_kuning_hijau/Kupu Harimau Kuning Hijau-94.JPG  \n",
            "  inflating: kupu/kupu_harimau_kuning_hijau/Kupu Harimau Kuning Hijau-95.JPG  \n",
            "  inflating: kupu/kupu_harimau_kuning_hijau/Kupu Harimau Kuning Hijau-96.JPG  \n",
            "  inflating: kupu/kupu_harimau_kuning_hijau/Kupu Harimau Kuning Hijau-97.JPG  \n",
            "  inflating: kupu/kupu_harimau_kuning_hijau/Kupu Harimau Kuning Hijau-98.JPG  \n",
            "  inflating: kupu/kupu_harimau_kuning_hijau/Kupu Harimau Kuning Hijau-99.JPG  \n",
            "   creating: kupu/kupu_hijau_biru/\n",
            "  inflating: kupu/kupu_hijau_biru/Kupu Hijau Biru-1.JPG  \n",
            "  inflating: kupu/kupu_hijau_biru/Kupu Hijau Biru-10.JPG  \n",
            "  inflating: kupu/kupu_hijau_biru/Kupu Hijau Biru-100.JPG  \n",
            "  inflating: kupu/kupu_hijau_biru/Kupu Hijau Biru-11.JPG  \n",
            "  inflating: kupu/kupu_hijau_biru/Kupu Hijau Biru-12.JPG  \n",
            "  inflating: kupu/kupu_hijau_biru/Kupu Hijau Biru-13.JPG  \n",
            "  inflating: kupu/kupu_hijau_biru/Kupu Hijau Biru-14.JPG  \n",
            "  inflating: kupu/kupu_hijau_biru/Kupu Hijau Biru-15.JPG  \n",
            "  inflating: kupu/kupu_hijau_biru/Kupu Hijau Biru-16.jpg  \n",
            "  inflating: kupu/kupu_hijau_biru/Kupu Hijau Biru-17.jpg  \n",
            "  inflating: kupu/kupu_hijau_biru/Kupu Hijau Biru-18.jpg  \n",
            "  inflating: kupu/kupu_hijau_biru/Kupu Hijau Biru-19.jpg  \n",
            "  inflating: kupu/kupu_hijau_biru/Kupu Hijau Biru-2.JPG  \n",
            "  inflating: kupu/kupu_hijau_biru/Kupu Hijau Biru-20.jpg  \n",
            "  inflating: kupu/kupu_hijau_biru/Kupu Hijau Biru-21.jpg  \n",
            "  inflating: kupu/kupu_hijau_biru/Kupu Hijau Biru-22.jpg  \n",
            "  inflating: kupu/kupu_hijau_biru/Kupu Hijau Biru-23.jpg  \n",
            "  inflating: kupu/kupu_hijau_biru/Kupu Hijau Biru-24.jpg  \n",
            "  inflating: kupu/kupu_hijau_biru/Kupu Hijau Biru-25.jpg  \n",
            "  inflating: kupu/kupu_hijau_biru/Kupu Hijau Biru-26.JPG  \n",
            "  inflating: kupu/kupu_hijau_biru/Kupu Hijau Biru-27.JPG  \n",
            "  inflating: kupu/kupu_hijau_biru/Kupu Hijau Biru-28.JPG  \n",
            "  inflating: kupu/kupu_hijau_biru/Kupu Hijau Biru-29.JPG  \n",
            "  inflating: kupu/kupu_hijau_biru/Kupu Hijau Biru-3.JPG  \n",
            "  inflating: kupu/kupu_hijau_biru/Kupu Hijau Biru-30.JPG  \n",
            "  inflating: kupu/kupu_hijau_biru/Kupu Hijau Biru-31.jpg  \n",
            "  inflating: kupu/kupu_hijau_biru/Kupu Hijau Biru-32.jpg  \n",
            "  inflating: kupu/kupu_hijau_biru/Kupu Hijau Biru-33.jpg  \n",
            "  inflating: kupu/kupu_hijau_biru/Kupu Hijau Biru-34.JPG  \n",
            "  inflating: kupu/kupu_hijau_biru/Kupu Hijau Biru-35.JPG  \n",
            "  inflating: kupu/kupu_hijau_biru/Kupu Hijau Biru-36.JPG  \n",
            "  inflating: kupu/kupu_hijau_biru/Kupu Hijau Biru-37.JPG  \n",
            "  inflating: kupu/kupu_hijau_biru/Kupu Hijau Biru-38.JPG  \n",
            "  inflating: kupu/kupu_hijau_biru/Kupu Hijau Biru-39.JPG  \n",
            "  inflating: kupu/kupu_hijau_biru/Kupu Hijau Biru-4.JPG  \n",
            "  inflating: kupu/kupu_hijau_biru/Kupu Hijau Biru-40.JPG  \n",
            "  inflating: kupu/kupu_hijau_biru/Kupu Hijau Biru-41.JPG  \n",
            "  inflating: kupu/kupu_hijau_biru/Kupu Hijau Biru-42.JPG  \n",
            "  inflating: kupu/kupu_hijau_biru/Kupu Hijau Biru-43.JPG  \n",
            "  inflating: kupu/kupu_hijau_biru/Kupu Hijau Biru-44.JPG  \n",
            "  inflating: kupu/kupu_hijau_biru/Kupu Hijau Biru-45.JPG  \n",
            "  inflating: kupu/kupu_hijau_biru/Kupu Hijau Biru-46.JPG  \n",
            "  inflating: kupu/kupu_hijau_biru/Kupu Hijau Biru-47.JPG  \n",
            "  inflating: kupu/kupu_hijau_biru/Kupu Hijau Biru-48.JPG  \n",
            "  inflating: kupu/kupu_hijau_biru/Kupu Hijau Biru-49.JPG  \n",
            "  inflating: kupu/kupu_hijau_biru/Kupu Hijau Biru-5.JPG  \n",
            "  inflating: kupu/kupu_hijau_biru/Kupu Hijau Biru-50.JPG  \n",
            "  inflating: kupu/kupu_hijau_biru/Kupu Hijau Biru-51.JPG  \n",
            "  inflating: kupu/kupu_hijau_biru/Kupu Hijau Biru-52.JPG  \n",
            "  inflating: kupu/kupu_hijau_biru/Kupu Hijau Biru-53.JPG  \n",
            "  inflating: kupu/kupu_hijau_biru/Kupu Hijau Biru-54.JPG  \n",
            "  inflating: kupu/kupu_hijau_biru/Kupu Hijau Biru-55.JPG  \n",
            "  inflating: kupu/kupu_hijau_biru/Kupu Hijau Biru-56.JPG  \n",
            "  inflating: kupu/kupu_hijau_biru/Kupu Hijau Biru-57.jpg  \n",
            "  inflating: kupu/kupu_hijau_biru/Kupu Hijau Biru-58.jpg  \n",
            "  inflating: kupu/kupu_hijau_biru/Kupu Hijau Biru-59.jpg  \n",
            "  inflating: kupu/kupu_hijau_biru/Kupu Hijau Biru-6.JPG  \n",
            "  inflating: kupu/kupu_hijau_biru/Kupu Hijau Biru-60.jpg  \n",
            "  inflating: kupu/kupu_hijau_biru/Kupu Hijau Biru-61.jpg  \n",
            "  inflating: kupu/kupu_hijau_biru/Kupu Hijau Biru-62.jpg  \n",
            "  inflating: kupu/kupu_hijau_biru/Kupu Hijau Biru-63.jpg  \n",
            "  inflating: kupu/kupu_hijau_biru/Kupu Hijau Biru-64.jpg  \n",
            "  inflating: kupu/kupu_hijau_biru/Kupu Hijau Biru-65.jpg  \n",
            "  inflating: kupu/kupu_hijau_biru/Kupu Hijau Biru-66.jpg  \n",
            "  inflating: kupu/kupu_hijau_biru/Kupu Hijau Biru-67.JPG  \n",
            "  inflating: kupu/kupu_hijau_biru/Kupu Hijau Biru-68.JPG  \n",
            "  inflating: kupu/kupu_hijau_biru/Kupu Hijau Biru-69.JPG  \n",
            "  inflating: kupu/kupu_hijau_biru/Kupu Hijau Biru-7.JPG  \n",
            "  inflating: kupu/kupu_hijau_biru/Kupu Hijau Biru-70.JPG  \n",
            "  inflating: kupu/kupu_hijau_biru/Kupu Hijau Biru-71.jpg  \n",
            "  inflating: kupu/kupu_hijau_biru/Kupu Hijau Biru-72.jpg  \n",
            "  inflating: kupu/kupu_hijau_biru/Kupu Hijau Biru-73.jpg  \n",
            "  inflating: kupu/kupu_hijau_biru/Kupu Hijau Biru-74.JPG  \n",
            "  inflating: kupu/kupu_hijau_biru/Kupu Hijau Biru-75.JPG  \n",
            "  inflating: kupu/kupu_hijau_biru/Kupu Hijau Biru-76.JPG  \n",
            "  inflating: kupu/kupu_hijau_biru/Kupu Hijau Biru-77.JPG  \n",
            "  inflating: kupu/kupu_hijau_biru/Kupu Hijau Biru-78.JPG  \n",
            "  inflating: kupu/kupu_hijau_biru/Kupu Hijau Biru-79.JPG  \n",
            "  inflating: kupu/kupu_hijau_biru/Kupu Hijau Biru-8.JPG  \n",
            "  inflating: kupu/kupu_hijau_biru/Kupu Hijau Biru-80.JPG  \n",
            "  inflating: kupu/kupu_hijau_biru/Kupu Hijau Biru-81.JPG  \n",
            "  inflating: kupu/kupu_hijau_biru/Kupu Hijau Biru-82.JPG  \n",
            "  inflating: kupu/kupu_hijau_biru/Kupu Hijau Biru-83.JPG  \n",
            "  inflating: kupu/kupu_hijau_biru/Kupu Hijau Biru-84.JPG  \n",
            "  inflating: kupu/kupu_hijau_biru/Kupu Hijau Biru-85.jpg  \n",
            "  inflating: kupu/kupu_hijau_biru/Kupu Hijau Biru-86.jpg  \n",
            "  inflating: kupu/kupu_hijau_biru/Kupu Hijau Biru-87.jpg  \n",
            "  inflating: kupu/kupu_hijau_biru/Kupu Hijau Biru-88.JPG  \n",
            "  inflating: kupu/kupu_hijau_biru/Kupu Hijau Biru-89.jpg  \n",
            "  inflating: kupu/kupu_hijau_biru/Kupu Hijau Biru-9.JPG  \n",
            "  inflating: kupu/kupu_hijau_biru/Kupu Hijau Biru-90.jpg  \n",
            "  inflating: kupu/kupu_hijau_biru/Kupu Hijau Biru-91.jpg  \n",
            "  inflating: kupu/kupu_hijau_biru/Kupu Hijau Biru-92.jpg  \n",
            "  inflating: kupu/kupu_hijau_biru/Kupu Hijau Biru-93.jpg  \n",
            "  inflating: kupu/kupu_hijau_biru/Kupu Hijau Biru-94.jpg  \n",
            "  inflating: kupu/kupu_hijau_biru/Kupu Hijau Biru-95.jpg  \n",
            "  inflating: kupu/kupu_hijau_biru/Kupu Hijau Biru-96.jpg  \n",
            "  inflating: kupu/kupu_hijau_biru/Kupu Hijau Biru-97.JPG  \n",
            "  inflating: kupu/kupu_hijau_biru/Kupu Hijau Biru-98.JPG  \n",
            "  inflating: kupu/kupu_hijau_biru/Kupu Hijau Biru-99.JPG  \n",
            "   creating: kupu/kupu_jarak/\n",
            "  inflating: kupu/kupu_jarak/aug_0_4998993.JPG  \n",
            "  inflating: kupu/kupu_jarak/aug_10_7202231.JPG  \n",
            "  inflating: kupu/kupu_jarak/aug_11_712530.JPG  \n",
            "  inflating: kupu/kupu_jarak/aug_12_1874931.JPG  \n",
            "  inflating: kupu/kupu_jarak/aug_13_2731448.JPG  \n",
            "  inflating: kupu/kupu_jarak/aug_14_2823368.JPG  \n",
            "  inflating: kupu/kupu_jarak/aug_15_675246.JPG  \n",
            "  inflating: kupu/kupu_jarak/aug_16_4324648.JPG  \n",
            "  inflating: kupu/kupu_jarak/aug_17_9719022.JPG  \n",
            "  inflating: kupu/kupu_jarak/aug_18_4746631.JPG  \n",
            "  inflating: kupu/kupu_jarak/aug_19_8145089.JPG  \n",
            "  inflating: kupu/kupu_jarak/aug_1_2829835.JPG  \n",
            "  inflating: kupu/kupu_jarak/aug_20_4418899.JPG  \n",
            "  inflating: kupu/kupu_jarak/aug_21_6639724.JPG  \n",
            "  inflating: kupu/kupu_jarak/aug_22_534451.JPG  \n",
            "  inflating: kupu/kupu_jarak/aug_23_2715888.JPG  \n",
            "  inflating: kupu/kupu_jarak/aug_24_5927084.JPG  \n",
            "  inflating: kupu/kupu_jarak/aug_25_2628123.JPG  \n",
            "  inflating: kupu/kupu_jarak/aug_26_698862.JPG  \n",
            "  inflating: kupu/kupu_jarak/aug_27_9012998.JPG  \n",
            "  inflating: kupu/kupu_jarak/aug_28_3887473.JPG  \n",
            "  inflating: kupu/kupu_jarak/aug_29_1926397.JPG  \n",
            "  inflating: kupu/kupu_jarak/aug_2_1374150.JPG  \n",
            "  inflating: kupu/kupu_jarak/aug_30_1952592.JPG  \n",
            "  inflating: kupu/kupu_jarak/aug_31_6138748.JPG  \n",
            "  inflating: kupu/kupu_jarak/aug_32_4932338.JPG  \n",
            "  inflating: kupu/kupu_jarak/aug_33_672299.JPG  \n",
            "  inflating: kupu/kupu_jarak/aug_34_3066712.JPG  \n",
            "  inflating: kupu/kupu_jarak/aug_35_4592173.JPG  \n",
            "  inflating: kupu/kupu_jarak/aug_36_3228273.JPG  \n",
            "  inflating: kupu/kupu_jarak/aug_37_2397214.JPG  \n",
            "  inflating: kupu/kupu_jarak/aug_38_8472923.JPG  \n",
            "  inflating: kupu/kupu_jarak/aug_39_4778745.JPG  \n",
            "  inflating: kupu/kupu_jarak/aug_3_6572053.JPG  \n",
            "  inflating: kupu/kupu_jarak/aug_40_4486082.JPG  \n",
            "  inflating: kupu/kupu_jarak/aug_41_3246610.JPG  \n",
            "  inflating: kupu/kupu_jarak/aug_42_4694722.JPG  \n",
            "  inflating: kupu/kupu_jarak/aug_43_5178995.JPG  \n",
            "  inflating: kupu/kupu_jarak/aug_44_5806422.JPG  \n",
            "  inflating: kupu/kupu_jarak/aug_45_8276658.JPG  \n",
            "  inflating: kupu/kupu_jarak/aug_46_1028707.JPG  \n",
            "  inflating: kupu/kupu_jarak/aug_47_4063660.JPG  \n",
            "  inflating: kupu/kupu_jarak/aug_48_8263001.JPG  \n",
            "  inflating: kupu/kupu_jarak/aug_49_4788652.JPG  \n",
            "  inflating: kupu/kupu_jarak/aug_4_9027378.JPG  \n",
            "  inflating: kupu/kupu_jarak/aug_50_6735036.JPG  \n",
            "  inflating: kupu/kupu_jarak/aug_51_5319062.JPG  \n",
            "  inflating: kupu/kupu_jarak/aug_52_1555544.JPG  \n",
            "  inflating: kupu/kupu_jarak/aug_53_7854456.JPG  \n",
            "  inflating: kupu/kupu_jarak/aug_54_7858340.JPG  \n",
            "  inflating: kupu/kupu_jarak/aug_55_3426544.JPG  \n",
            "  inflating: kupu/kupu_jarak/aug_56_2790546.JPG  \n",
            "  inflating: kupu/kupu_jarak/aug_57_8892108.JPG  \n",
            "  inflating: kupu/kupu_jarak/aug_58_517637.JPG  \n",
            "  inflating: kupu/kupu_jarak/aug_59_2971095.JPG  \n",
            "  inflating: kupu/kupu_jarak/aug_5_5893727.JPG  \n",
            "  inflating: kupu/kupu_jarak/aug_60_5960944.JPG  \n",
            "  inflating: kupu/kupu_jarak/aug_61_7753404.JPG  \n",
            "  inflating: kupu/kupu_jarak/aug_62_5907862.JPG  \n",
            "  inflating: kupu/kupu_jarak/aug_63_6552801.JPG  \n",
            "  inflating: kupu/kupu_jarak/aug_64_7476232.JPG  \n",
            "  inflating: kupu/kupu_jarak/aug_65_8698062.JPG  \n",
            "  inflating: kupu/kupu_jarak/aug_66_8786566.JPG  \n",
            "  inflating: kupu/kupu_jarak/aug_67_9244838.JPG  \n",
            "  inflating: kupu/kupu_jarak/aug_68_1092977.JPG  \n",
            "  inflating: kupu/kupu_jarak/aug_69_1031024.JPG  \n",
            "  inflating: kupu/kupu_jarak/aug_6_8528150.JPG  \n",
            "  inflating: kupu/kupu_jarak/aug_70_8562898.JPG  \n",
            "  inflating: kupu/kupu_jarak/aug_71_9755382.JPG  \n",
            "  inflating: kupu/kupu_jarak/aug_72_8935401.JPG  \n",
            "  inflating: kupu/kupu_jarak/aug_73_1231786.JPG  \n",
            "  inflating: kupu/kupu_jarak/aug_74_993585.JPG  \n",
            "  inflating: kupu/kupu_jarak/aug_75_7875715.JPG  \n",
            "  inflating: kupu/kupu_jarak/aug_76_7597442.JPG  \n",
            "  inflating: kupu/kupu_jarak/aug_77_1076194.JPG  \n",
            "  inflating: kupu/kupu_jarak/aug_78_4180760.JPG  \n",
            "  inflating: kupu/kupu_jarak/aug_79_5430385.JPG  \n",
            "  inflating: kupu/kupu_jarak/aug_7_302556.JPG  \n",
            "  inflating: kupu/kupu_jarak/aug_80_4026011.JPG  \n",
            "  inflating: kupu/kupu_jarak/aug_81_7983849.JPG  \n",
            "  inflating: kupu/kupu_jarak/aug_82_60963.JPG  \n",
            "  inflating: kupu/kupu_jarak/aug_83_6144186.JPG  \n",
            "  inflating: kupu/kupu_jarak/aug_84_9098842.JPG  \n",
            "  inflating: kupu/kupu_jarak/aug_85_1540324.JPG  \n",
            "  inflating: kupu/kupu_jarak/aug_86_9525209.JPG  \n",
            "  inflating: kupu/kupu_jarak/aug_87_6461037.JPG  \n",
            "  inflating: kupu/kupu_jarak/aug_88_8689505.JPG  \n",
            "  inflating: kupu/kupu_jarak/aug_89_1799929.JPG  \n",
            "  inflating: kupu/kupu_jarak/aug_8_2019746.JPG  \n",
            "  inflating: kupu/kupu_jarak/aug_90_4426975.JPG  \n",
            "  inflating: kupu/kupu_jarak/aug_91_7319212.JPG  \n",
            "  inflating: kupu/kupu_jarak/aug_92_160619.JPG  \n",
            "  inflating: kupu/kupu_jarak/aug_9_1741717.JPG  \n",
            "  inflating: kupu/kupu_jarak/Kupu Jarak-100.jpg  \n",
            "  inflating: kupu/kupu_jarak/Kupu Jarak-90.JPG  \n",
            "  inflating: kupu/kupu_jarak/Kupu Jarak-93.JPG  \n",
            "  inflating: kupu/kupu_jarak/Kupu Jarak-94.jpg  \n",
            "  inflating: kupu/kupu_jarak/Kupu Jarak-97.JPG  \n",
            "  inflating: kupu/kupu_jarak/Kupu Jarak-98.jpg  \n",
            "  inflating: kupu/kupu_jarak/Kupu Jarak-99.jpg  \n",
            "   creating: kupu/kupu_jojo/\n",
            "  inflating: kupu/kupu_jojo/Kupu Jojo-1.JPG  \n",
            "  inflating: kupu/kupu_jojo/Kupu Jojo-10.JPG  \n",
            "  inflating: kupu/kupu_jojo/Kupu Jojo-100.JPG  \n",
            "  inflating: kupu/kupu_jojo/Kupu Jojo-11.JPG  \n",
            "  inflating: kupu/kupu_jojo/Kupu Jojo-12.JPG  \n",
            "  inflating: kupu/kupu_jojo/Kupu Jojo-13.JPG  \n",
            "  inflating: kupu/kupu_jojo/Kupu Jojo-14.JPG  \n",
            "  inflating: kupu/kupu_jojo/Kupu Jojo-15.JPG  \n",
            "  inflating: kupu/kupu_jojo/Kupu Jojo-16.JPG  \n",
            "  inflating: kupu/kupu_jojo/Kupu Jojo-17.JPG  \n",
            "  inflating: kupu/kupu_jojo/Kupu Jojo-18.JPG  \n",
            "  inflating: kupu/kupu_jojo/Kupu Jojo-19.JPG  \n",
            "  inflating: kupu/kupu_jojo/Kupu Jojo-2.JPG  \n",
            "  inflating: kupu/kupu_jojo/Kupu Jojo-20.JPG  \n",
            "  inflating: kupu/kupu_jojo/Kupu Jojo-21.JPG  \n",
            "  inflating: kupu/kupu_jojo/Kupu Jojo-22.JPG  \n",
            "  inflating: kupu/kupu_jojo/Kupu Jojo-23.JPG  \n",
            "  inflating: kupu/kupu_jojo/Kupu Jojo-24.JPG  \n",
            "  inflating: kupu/kupu_jojo/Kupu Jojo-25.JPG  \n",
            "  inflating: kupu/kupu_jojo/Kupu Jojo-26.JPG  \n",
            "  inflating: kupu/kupu_jojo/Kupu Jojo-27.JPG  \n",
            "  inflating: kupu/kupu_jojo/Kupu Jojo-28.JPG  \n",
            "  inflating: kupu/kupu_jojo/Kupu Jojo-29.JPG  \n",
            "  inflating: kupu/kupu_jojo/Kupu Jojo-3.JPG  \n",
            "  inflating: kupu/kupu_jojo/Kupu Jojo-30.JPG  \n",
            "  inflating: kupu/kupu_jojo/Kupu Jojo-31.JPG  \n",
            "  inflating: kupu/kupu_jojo/Kupu Jojo-32.JPG  \n",
            "  inflating: kupu/kupu_jojo/Kupu Jojo-33.JPG  \n",
            "  inflating: kupu/kupu_jojo/Kupu Jojo-34.JPG  \n",
            "  inflating: kupu/kupu_jojo/Kupu Jojo-35.JPG  \n",
            "  inflating: kupu/kupu_jojo/Kupu Jojo-36.JPG  \n",
            "  inflating: kupu/kupu_jojo/Kupu Jojo-37.JPG  \n",
            "  inflating: kupu/kupu_jojo/Kupu Jojo-38.JPG  \n",
            "  inflating: kupu/kupu_jojo/Kupu Jojo-39.JPG  \n",
            "  inflating: kupu/kupu_jojo/Kupu Jojo-4.JPG  \n",
            "  inflating: kupu/kupu_jojo/Kupu Jojo-40.JPG  \n",
            "  inflating: kupu/kupu_jojo/Kupu Jojo-41.JPG  \n",
            "  inflating: kupu/kupu_jojo/Kupu Jojo-42.JPG  \n",
            "  inflating: kupu/kupu_jojo/Kupu Jojo-43.JPG  \n",
            "  inflating: kupu/kupu_jojo/Kupu Jojo-44.JPG  \n",
            "  inflating: kupu/kupu_jojo/Kupu Jojo-45.JPG  \n",
            "  inflating: kupu/kupu_jojo/Kupu Jojo-46.JPG  \n",
            "  inflating: kupu/kupu_jojo/Kupu Jojo-47.JPG  \n",
            "  inflating: kupu/kupu_jojo/Kupu Jojo-48.JPG  \n",
            "  inflating: kupu/kupu_jojo/Kupu Jojo-49.JPG  \n",
            "  inflating: kupu/kupu_jojo/Kupu Jojo-5.JPG  \n",
            "  inflating: kupu/kupu_jojo/Kupu Jojo-50.JPG  \n",
            "  inflating: kupu/kupu_jojo/Kupu Jojo-51.JPG  \n",
            "  inflating: kupu/kupu_jojo/Kupu Jojo-52.JPG  \n",
            "  inflating: kupu/kupu_jojo/Kupu Jojo-53.JPG  \n",
            "  inflating: kupu/kupu_jojo/Kupu Jojo-54.JPG  \n",
            "  inflating: kupu/kupu_jojo/Kupu Jojo-55.JPG  \n",
            "  inflating: kupu/kupu_jojo/Kupu Jojo-56.JPG  \n",
            "  inflating: kupu/kupu_jojo/Kupu Jojo-57.JPG  \n",
            "  inflating: kupu/kupu_jojo/Kupu Jojo-58.JPG  \n",
            "  inflating: kupu/kupu_jojo/Kupu Jojo-59.JPG  \n",
            "  inflating: kupu/kupu_jojo/Kupu Jojo-6.JPG  \n",
            "  inflating: kupu/kupu_jojo/Kupu Jojo-60.JPG  \n",
            "  inflating: kupu/kupu_jojo/Kupu Jojo-61.JPG  \n",
            "  inflating: kupu/kupu_jojo/Kupu Jojo-62.JPG  \n",
            "  inflating: kupu/kupu_jojo/Kupu Jojo-63.JPG  \n",
            "  inflating: kupu/kupu_jojo/Kupu Jojo-64.JPG  \n",
            "  inflating: kupu/kupu_jojo/Kupu Jojo-65.JPG  \n",
            "  inflating: kupu/kupu_jojo/Kupu Jojo-66.JPG  \n",
            "  inflating: kupu/kupu_jojo/Kupu Jojo-67.JPG  \n",
            "  inflating: kupu/kupu_jojo/Kupu Jojo-68.JPG  \n",
            "  inflating: kupu/kupu_jojo/Kupu Jojo-69.JPG  \n",
            "  inflating: kupu/kupu_jojo/Kupu Jojo-7.JPG  \n",
            "  inflating: kupu/kupu_jojo/Kupu Jojo-70.JPG  \n",
            "  inflating: kupu/kupu_jojo/Kupu Jojo-71.JPG  \n",
            "  inflating: kupu/kupu_jojo/Kupu Jojo-72.JPG  \n",
            "  inflating: kupu/kupu_jojo/Kupu Jojo-73.JPG  \n",
            "  inflating: kupu/kupu_jojo/Kupu Jojo-74.JPG  \n",
            "  inflating: kupu/kupu_jojo/Kupu Jojo-75.JPG  \n",
            "  inflating: kupu/kupu_jojo/Kupu Jojo-76.JPG  \n",
            "  inflating: kupu/kupu_jojo/Kupu Jojo-77.JPG  \n",
            "  inflating: kupu/kupu_jojo/Kupu Jojo-78.JPG  \n",
            "  inflating: kupu/kupu_jojo/Kupu Jojo-79.JPG  \n",
            "  inflating: kupu/kupu_jojo/Kupu Jojo-8.JPG  \n",
            "  inflating: kupu/kupu_jojo/Kupu Jojo-80.JPG  \n",
            "  inflating: kupu/kupu_jojo/Kupu Jojo-81.JPG  \n",
            "  inflating: kupu/kupu_jojo/Kupu Jojo-82.JPG  \n",
            "  inflating: kupu/kupu_jojo/Kupu Jojo-83.JPG  \n",
            "  inflating: kupu/kupu_jojo/Kupu Jojo-84.JPG  \n",
            "  inflating: kupu/kupu_jojo/Kupu Jojo-85.JPG  \n",
            "  inflating: kupu/kupu_jojo/Kupu Jojo-86.JPG  \n",
            "  inflating: kupu/kupu_jojo/Kupu Jojo-87.JPG  \n",
            "  inflating: kupu/kupu_jojo/Kupu Jojo-88.JPG  \n",
            "  inflating: kupu/kupu_jojo/Kupu Jojo-89.JPG  \n",
            "  inflating: kupu/kupu_jojo/Kupu Jojo-9.JPG  \n",
            "  inflating: kupu/kupu_jojo/Kupu Jojo-90.JPG  \n",
            "  inflating: kupu/kupu_jojo/Kupu Jojo-91.JPG  \n",
            "  inflating: kupu/kupu_jojo/Kupu Jojo-92.JPG  \n",
            "  inflating: kupu/kupu_jojo/Kupu Jojo-93.JPG  \n",
            "  inflating: kupu/kupu_jojo/Kupu Jojo-94.JPG  \n",
            "  inflating: kupu/kupu_jojo/Kupu Jojo-95.JPG  \n",
            "  inflating: kupu/kupu_jojo/Kupu Jojo-96.JPG  \n",
            "  inflating: kupu/kupu_jojo/Kupu Jojo-97.JPG  \n",
            "  inflating: kupu/kupu_jojo/Kupu Jojo-98.JPG  \n",
            "  inflating: kupu/kupu_jojo/Kupu Jojo-99.JPG  \n",
            "   creating: kupu/kupu_pantat_merah/\n",
            "  inflating: kupu/kupu_pantat_merah/aug_0_5503786.JPG  \n",
            "  inflating: kupu/kupu_pantat_merah/aug_1_3857894.JPG  \n",
            "  inflating: kupu/kupu_pantat_merah/aug_2_329309.JPG  \n",
            "  inflating: kupu/kupu_pantat_merah/aug_3_5055534.JPG  \n",
            "  inflating: kupu/kupu_pantat_merah/aug_4_6856610.JPG  \n",
            "  inflating: kupu/kupu_pantat_merah/Kupu Pantat Merah-1.JPG  \n",
            "  inflating: kupu/kupu_pantat_merah/Kupu Pantat Merah-10.JPG  \n",
            "  inflating: kupu/kupu_pantat_merah/Kupu Pantat Merah-100.jpg  \n",
            "  inflating: kupu/kupu_pantat_merah/Kupu Pantat Merah-11.JPG  \n",
            "  inflating: kupu/kupu_pantat_merah/Kupu Pantat Merah-12.JPG  \n",
            "  inflating: kupu/kupu_pantat_merah/Kupu Pantat Merah-13.JPG  \n",
            "  inflating: kupu/kupu_pantat_merah/Kupu Pantat Merah-14.JPG  \n",
            "  inflating: kupu/kupu_pantat_merah/Kupu Pantat Merah-15.jpg  \n",
            "  inflating: kupu/kupu_pantat_merah/Kupu Pantat Merah-16.jpg  \n",
            "  inflating: kupu/kupu_pantat_merah/Kupu Pantat Merah-17.jpg  \n",
            "  inflating: kupu/kupu_pantat_merah/Kupu Pantat Merah-18.jpg  \n",
            "  inflating: kupu/kupu_pantat_merah/Kupu Pantat Merah-19.jpg  \n",
            "  inflating: kupu/kupu_pantat_merah/Kupu Pantat Merah-2.JPG  \n",
            "  inflating: kupu/kupu_pantat_merah/Kupu Pantat Merah-20.jpg  \n",
            "  inflating: kupu/kupu_pantat_merah/Kupu Pantat Merah-21.jpg  \n",
            "  inflating: kupu/kupu_pantat_merah/Kupu Pantat Merah-22.jpg  \n",
            "  inflating: kupu/kupu_pantat_merah/Kupu Pantat Merah-23.jpg  \n",
            "  inflating: kupu/kupu_pantat_merah/Kupu Pantat Merah-24.jpg  \n",
            "  inflating: kupu/kupu_pantat_merah/Kupu Pantat Merah-25.jpg  \n",
            "  inflating: kupu/kupu_pantat_merah/Kupu Pantat Merah-26.jpg  \n",
            "  inflating: kupu/kupu_pantat_merah/Kupu Pantat Merah-27.jpg  \n",
            "  inflating: kupu/kupu_pantat_merah/Kupu Pantat Merah-28.jpg  \n",
            "  inflating: kupu/kupu_pantat_merah/Kupu Pantat Merah-29.jpg  \n",
            "  inflating: kupu/kupu_pantat_merah/Kupu Pantat Merah-3.JPG  \n",
            "  inflating: kupu/kupu_pantat_merah/Kupu Pantat Merah-30.jpg  \n",
            "  inflating: kupu/kupu_pantat_merah/Kupu Pantat Merah-31.jpg  \n",
            "  inflating: kupu/kupu_pantat_merah/Kupu Pantat Merah-32.jpg  \n",
            "  inflating: kupu/kupu_pantat_merah/Kupu Pantat Merah-33.jpg  \n",
            "  inflating: kupu/kupu_pantat_merah/Kupu Pantat Merah-34.jpg  \n",
            "  inflating: kupu/kupu_pantat_merah/Kupu Pantat Merah-35.jpg  \n",
            "  inflating: kupu/kupu_pantat_merah/Kupu Pantat Merah-36.JPG  \n",
            "  inflating: kupu/kupu_pantat_merah/Kupu Pantat Merah-37.JPG  \n",
            "  inflating: kupu/kupu_pantat_merah/Kupu Pantat Merah-38.JPG  \n",
            "  inflating: kupu/kupu_pantat_merah/Kupu Pantat Merah-39.jpg  \n",
            "  inflating: kupu/kupu_pantat_merah/Kupu Pantat Merah-4.JPG  \n",
            "  inflating: kupu/kupu_pantat_merah/Kupu Pantat Merah-40.jpg  \n",
            "  inflating: kupu/kupu_pantat_merah/Kupu Pantat Merah-41.JPG  \n",
            "  inflating: kupu/kupu_pantat_merah/Kupu Pantat Merah-42.JPG  \n",
            "  inflating: kupu/kupu_pantat_merah/Kupu Pantat Merah-43.JPG  \n",
            "  inflating: kupu/kupu_pantat_merah/Kupu Pantat Merah-44.JPG  \n",
            "  inflating: kupu/kupu_pantat_merah/Kupu Pantat Merah-45.JPG  \n",
            "  inflating: kupu/kupu_pantat_merah/Kupu Pantat Merah-46.JPG  \n",
            "  inflating: kupu/kupu_pantat_merah/Kupu Pantat Merah-47.JPG  \n",
            "  inflating: kupu/kupu_pantat_merah/Kupu Pantat Merah-48.JPG  \n",
            "  inflating: kupu/kupu_pantat_merah/Kupu Pantat Merah-49.JPG  \n",
            "  inflating: kupu/kupu_pantat_merah/Kupu Pantat Merah-50.JPG  \n",
            "  inflating: kupu/kupu_pantat_merah/Kupu Pantat Merah-51.JPG  \n",
            "  inflating: kupu/kupu_pantat_merah/Kupu Pantat Merah-52.JPG  \n",
            "  inflating: kupu/kupu_pantat_merah/Kupu Pantat Merah-53.JPG  \n",
            "  inflating: kupu/kupu_pantat_merah/Kupu Pantat Merah-54.JPG  \n",
            "  inflating: kupu/kupu_pantat_merah/Kupu Pantat Merah-55.jpg  \n",
            "  inflating: kupu/kupu_pantat_merah/Kupu Pantat Merah-56.jpg  \n",
            "  inflating: kupu/kupu_pantat_merah/Kupu Pantat Merah-57.jpg  \n",
            "  inflating: kupu/kupu_pantat_merah/Kupu Pantat Merah-58.jpg  \n",
            "  inflating: kupu/kupu_pantat_merah/Kupu Pantat Merah-59.jpg  \n",
            "  inflating: kupu/kupu_pantat_merah/Kupu Pantat Merah-60.jpg  \n",
            "  inflating: kupu/kupu_pantat_merah/Kupu Pantat Merah-61.jpg  \n",
            "  inflating: kupu/kupu_pantat_merah/Kupu Pantat Merah-62.jpg  \n",
            "  inflating: kupu/kupu_pantat_merah/Kupu Pantat Merah-63.jpg  \n",
            "  inflating: kupu/kupu_pantat_merah/Kupu Pantat Merah-64.jpg  \n",
            "  inflating: kupu/kupu_pantat_merah/Kupu Pantat Merah-65.jpg  \n",
            "  inflating: kupu/kupu_pantat_merah/Kupu Pantat Merah-66.jpg  \n",
            "  inflating: kupu/kupu_pantat_merah/Kupu Pantat Merah-67.jpg  \n",
            "  inflating: kupu/kupu_pantat_merah/Kupu Pantat Merah-68.jpg  \n",
            "  inflating: kupu/kupu_pantat_merah/Kupu Pantat Merah-69.jpg  \n",
            "  inflating: kupu/kupu_pantat_merah/Kupu Pantat Merah-70.jpg  \n",
            "  inflating: kupu/kupu_pantat_merah/Kupu Pantat Merah-71.jpg  \n",
            "  inflating: kupu/kupu_pantat_merah/Kupu Pantat Merah-72.jpg  \n",
            "  inflating: kupu/kupu_pantat_merah/Kupu Pantat Merah-73.jpg  \n",
            "  inflating: kupu/kupu_pantat_merah/Kupu Pantat Merah-74.jpg  \n",
            "  inflating: kupu/kupu_pantat_merah/Kupu Pantat Merah-75.jpg  \n",
            "  inflating: kupu/kupu_pantat_merah/Kupu Pantat Merah-76.JPG  \n",
            "  inflating: kupu/kupu_pantat_merah/Kupu Pantat Merah-77.JPG  \n",
            "  inflating: kupu/kupu_pantat_merah/Kupu Pantat Merah-78.JPG  \n",
            "  inflating: kupu/kupu_pantat_merah/Kupu Pantat Merah-79.jpg  \n",
            "  inflating: kupu/kupu_pantat_merah/Kupu Pantat Merah-80.jpg  \n",
            "  inflating: kupu/kupu_pantat_merah/Kupu Pantat Merah-81.JPG  \n",
            "  inflating: kupu/kupu_pantat_merah/Kupu Pantat Merah-82.JPG  \n",
            "  inflating: kupu/kupu_pantat_merah/Kupu Pantat Merah-83.JPG  \n",
            "  inflating: kupu/kupu_pantat_merah/Kupu Pantat Merah-84.JPG  \n",
            "  inflating: kupu/kupu_pantat_merah/Kupu Pantat Merah-85.JPG  \n",
            "  inflating: kupu/kupu_pantat_merah/Kupu Pantat Merah-86.JPG  \n",
            "  inflating: kupu/kupu_pantat_merah/Kupu Pantat Merah-87.JPG  \n",
            "  inflating: kupu/kupu_pantat_merah/Kupu Pantat Merah-88.jpg  \n",
            "  inflating: kupu/kupu_pantat_merah/Kupu Pantat Merah-89.jpg  \n",
            "  inflating: kupu/kupu_pantat_merah/Kupu Pantat Merah-90.jpg  \n",
            "  inflating: kupu/kupu_pantat_merah/Kupu Pantat Merah-91.jpg  \n",
            "  inflating: kupu/kupu_pantat_merah/Kupu Pantat Merah-92.jpg  \n",
            "  inflating: kupu/kupu_pantat_merah/Kupu Pantat Merah-93.jpg  \n",
            "  inflating: kupu/kupu_pantat_merah/Kupu Pantat Merah-94.jpg  \n",
            "  inflating: kupu/kupu_pantat_merah/Kupu Pantat Merah-95.jpg  \n",
            "  inflating: kupu/kupu_pantat_merah/Kupu Pantat Merah-96.JPG  \n",
            "  inflating: kupu/kupu_pantat_merah/Kupu Pantat Merah-97.JPG  \n",
            "  inflating: kupu/kupu_pantat_merah/Kupu Pantat Merah-98.JPG  \n",
            "  inflating: kupu/kupu_pantat_merah/Kupu Pantat Merah-99.jpg  \n",
            "   creating: kupu/kupu_raja_helena/\n",
            "  inflating: kupu/kupu_raja_helena/aug_0_6256858.JPG  \n",
            "  inflating: kupu/kupu_raja_helena/aug_10_5661850.JPG  \n",
            "  inflating: kupu/kupu_raja_helena/aug_11_4231062.JPG  \n",
            "  inflating: kupu/kupu_raja_helena/aug_12_5882910.JPG  \n",
            "  inflating: kupu/kupu_raja_helena/aug_13_4980133.JPG  \n",
            "  inflating: kupu/kupu_raja_helena/aug_14_9583710.JPG  \n",
            "  inflating: kupu/kupu_raja_helena/aug_15_6472033.JPG  \n",
            "  inflating: kupu/kupu_raja_helena/aug_16_3944281.JPG  \n",
            "  inflating: kupu/kupu_raja_helena/aug_17_2339300.JPG  \n",
            "  inflating: kupu/kupu_raja_helena/aug_18_1715840.JPG  \n",
            "  inflating: kupu/kupu_raja_helena/aug_19_323447.JPG  \n",
            "  inflating: kupu/kupu_raja_helena/aug_1_3998682.JPG  \n",
            "  inflating: kupu/kupu_raja_helena/aug_20_4239939.JPG  \n",
            "  inflating: kupu/kupu_raja_helena/aug_21_3111739.JPG  \n",
            "  inflating: kupu/kupu_raja_helena/aug_22_1448461.JPG  \n",
            "  inflating: kupu/kupu_raja_helena/aug_23_4595630.JPG  \n",
            "  inflating: kupu/kupu_raja_helena/aug_24_3574600.JPG  \n",
            "  inflating: kupu/kupu_raja_helena/aug_25_7509173.JPG  \n",
            "  inflating: kupu/kupu_raja_helena/aug_26_6546579.JPG  \n",
            "  inflating: kupu/kupu_raja_helena/aug_27_5353497.JPG  \n",
            "  inflating: kupu/kupu_raja_helena/aug_28_272246.JPG  \n",
            "  inflating: kupu/kupu_raja_helena/aug_29_8906286.JPG  \n",
            "  inflating: kupu/kupu_raja_helena/aug_2_846766.JPG  \n",
            "  inflating: kupu/kupu_raja_helena/aug_30_1118135.JPG  \n",
            "  inflating: kupu/kupu_raja_helena/aug_31_4285574.JPG  \n",
            "  inflating: kupu/kupu_raja_helena/aug_32_8568678.JPG  \n",
            "  inflating: kupu/kupu_raja_helena/aug_33_4950691.JPG  \n",
            "  inflating: kupu/kupu_raja_helena/aug_34_6328468.JPG  \n",
            "  inflating: kupu/kupu_raja_helena/aug_35_1302203.JPG  \n",
            "  inflating: kupu/kupu_raja_helena/aug_36_7409053.JPG  \n",
            "  inflating: kupu/kupu_raja_helena/aug_37_7543347.JPG  \n",
            "  inflating: kupu/kupu_raja_helena/aug_38_61315.JPG  \n",
            "  inflating: kupu/kupu_raja_helena/aug_39_6519255.JPG  \n",
            "  inflating: kupu/kupu_raja_helena/aug_3_2972255.JPG  \n",
            "  inflating: kupu/kupu_raja_helena/aug_40_7853281.JPG  \n",
            "  inflating: kupu/kupu_raja_helena/aug_41_1144184.JPG  \n",
            "  inflating: kupu/kupu_raja_helena/aug_42_4798877.JPG  \n",
            "  inflating: kupu/kupu_raja_helena/aug_43_2408552.JPG  \n",
            "  inflating: kupu/kupu_raja_helena/aug_44_9503735.JPG  \n",
            "  inflating: kupu/kupu_raja_helena/aug_45_3227162.JPG  \n",
            "  inflating: kupu/kupu_raja_helena/aug_46_4733425.JPG  \n",
            "  inflating: kupu/kupu_raja_helena/aug_47_86255.JPG  \n",
            "  inflating: kupu/kupu_raja_helena/aug_48_9956781.JPG  \n",
            "  inflating: kupu/kupu_raja_helena/aug_49_9704055.JPG  \n",
            "  inflating: kupu/kupu_raja_helena/aug_4_189711.JPG  \n",
            "  inflating: kupu/kupu_raja_helena/aug_50_8188351.JPG  \n",
            "  inflating: kupu/kupu_raja_helena/aug_51_9362316.JPG  \n",
            "  inflating: kupu/kupu_raja_helena/aug_52_8498138.JPG  \n",
            "  inflating: kupu/kupu_raja_helena/aug_53_9664399.JPG  \n",
            "  inflating: kupu/kupu_raja_helena/aug_54_1610630.JPG  \n",
            "  inflating: kupu/kupu_raja_helena/aug_55_7148399.JPG  \n",
            "  inflating: kupu/kupu_raja_helena/aug_56_4369552.JPG  \n",
            "  inflating: kupu/kupu_raja_helena/aug_57_2719618.JPG  \n",
            "  inflating: kupu/kupu_raja_helena/aug_58_9710350.JPG  \n",
            "  inflating: kupu/kupu_raja_helena/aug_59_7826784.JPG  \n",
            "  inflating: kupu/kupu_raja_helena/aug_5_3096442.JPG  \n",
            "  inflating: kupu/kupu_raja_helena/aug_60_3988516.JPG  \n",
            "  inflating: kupu/kupu_raja_helena/aug_61_1520133.JPG  \n",
            "  inflating: kupu/kupu_raja_helena/aug_62_1303625.JPG  \n",
            "  inflating: kupu/kupu_raja_helena/aug_63_884572.JPG  \n",
            "  inflating: kupu/kupu_raja_helena/aug_64_5318575.JPG  \n",
            "  inflating: kupu/kupu_raja_helena/aug_65_3663873.JPG  \n",
            "  inflating: kupu/kupu_raja_helena/aug_66_43043.JPG  \n",
            "  inflating: kupu/kupu_raja_helena/aug_67_2181736.JPG  \n",
            "  inflating: kupu/kupu_raja_helena/aug_68_854141.JPG  \n",
            "  inflating: kupu/kupu_raja_helena/aug_69_7164882.JPG  \n",
            "  inflating: kupu/kupu_raja_helena/aug_6_5082975.JPG  \n",
            "  inflating: kupu/kupu_raja_helena/aug_70_5846722.JPG  \n",
            "  inflating: kupu/kupu_raja_helena/aug_71_3073586.JPG  \n",
            "  inflating: kupu/kupu_raja_helena/aug_72_8164216.JPG  \n",
            "  inflating: kupu/kupu_raja_helena/aug_73_5951836.JPG  \n",
            "  inflating: kupu/kupu_raja_helena/aug_74_1426970.JPG  \n",
            "  inflating: kupu/kupu_raja_helena/aug_75_2101448.JPG  \n",
            "  inflating: kupu/kupu_raja_helena/aug_76_9125437.JPG  \n",
            "  inflating: kupu/kupu_raja_helena/aug_77_567128.JPG  \n",
            "  inflating: kupu/kupu_raja_helena/aug_78_4290757.JPG  \n",
            "  inflating: kupu/kupu_raja_helena/aug_79_5496098.JPG  \n",
            "  inflating: kupu/kupu_raja_helena/aug_7_2709127.JPG  \n",
            "  inflating: kupu/kupu_raja_helena/aug_80_3561305.JPG  \n",
            "  inflating: kupu/kupu_raja_helena/aug_81_9497123.JPG  \n",
            "  inflating: kupu/kupu_raja_helena/aug_82_7885240.JPG  \n",
            "  inflating: kupu/kupu_raja_helena/aug_83_8791900.JPG  \n",
            "  inflating: kupu/kupu_raja_helena/aug_84_9099696.JPG  \n",
            "  inflating: kupu/kupu_raja_helena/aug_85_4890061.JPG  \n",
            "  inflating: kupu/kupu_raja_helena/aug_86_752898.JPG  \n",
            "  inflating: kupu/kupu_raja_helena/aug_87_4969756.JPG  \n",
            "  inflating: kupu/kupu_raja_helena/aug_88_372360.JPG  \n",
            "  inflating: kupu/kupu_raja_helena/aug_89_9262211.JPG  \n",
            "  inflating: kupu/kupu_raja_helena/aug_8_5202876.JPG  \n",
            "  inflating: kupu/kupu_raja_helena/aug_90_5496454.JPG  \n",
            "  inflating: kupu/kupu_raja_helena/aug_91_7249565.JPG  \n",
            "  inflating: kupu/kupu_raja_helena/aug_9_8499322.JPG  \n",
            "  inflating: kupu/kupu_raja_helena/Kupu Raja Helena-100.JPG  \n",
            "  inflating: kupu/kupu_raja_helena/Kupu Raja Helena-81.jpg  \n",
            "  inflating: kupu/kupu_raja_helena/Kupu Raja Helena-92.JPG  \n",
            "  inflating: kupu/kupu_raja_helena/Kupu Raja Helena-93.JPG  \n",
            "  inflating: kupu/kupu_raja_helena/Kupu Raja Helena-94.JPG  \n",
            "  inflating: kupu/kupu_raja_helena/Kupu Raja Helena-95.JPG  \n",
            "  inflating: kupu/kupu_raja_helena/Kupu Raja Helena-97.JPG  \n",
            "  inflating: kupu/kupu_raja_helena/Kupu Raja Helena-99.JPG  \n",
            "   creating: kupu/kupu_raja_limau/\n",
            "  inflating: kupu/kupu_raja_limau/Kupu Raja Limau-1.jpg  \n",
            "  inflating: kupu/kupu_raja_limau/Kupu Raja Limau-10.JPG  \n",
            "  inflating: kupu/kupu_raja_limau/Kupu Raja Limau-100.jpg  \n",
            "  inflating: kupu/kupu_raja_limau/Kupu Raja Limau-11.JPG  \n",
            "  inflating: kupu/kupu_raja_limau/Kupu Raja Limau-12.JPG  \n",
            "  inflating: kupu/kupu_raja_limau/Kupu Raja Limau-13.JPG  \n",
            "  inflating: kupu/kupu_raja_limau/Kupu Raja Limau-14.JPG  \n",
            "  inflating: kupu/kupu_raja_limau/Kupu Raja Limau-15.JPG  \n",
            "  inflating: kupu/kupu_raja_limau/Kupu Raja Limau-16.JPG  \n",
            "  inflating: kupu/kupu_raja_limau/Kupu Raja Limau-17.JPG  \n",
            "  inflating: kupu/kupu_raja_limau/Kupu Raja Limau-18.JPG  \n",
            "  inflating: kupu/kupu_raja_limau/Kupu Raja Limau-19.JPG  \n",
            "  inflating: kupu/kupu_raja_limau/Kupu Raja Limau-2.jpg  \n",
            "  inflating: kupu/kupu_raja_limau/Kupu Raja Limau-20.jpg  \n",
            "  inflating: kupu/kupu_raja_limau/Kupu Raja Limau-21.jpg  \n",
            "  inflating: kupu/kupu_raja_limau/Kupu Raja Limau-22.jpg  \n",
            "  inflating: kupu/kupu_raja_limau/Kupu Raja Limau-23.jpg  \n",
            "  inflating: kupu/kupu_raja_limau/Kupu Raja Limau-24.jpg  \n",
            "  inflating: kupu/kupu_raja_limau/Kupu Raja Limau-25.jpg  \n",
            "  inflating: kupu/kupu_raja_limau/Kupu Raja Limau-26.JPG  \n",
            "  inflating: kupu/kupu_raja_limau/Kupu Raja Limau-27.JPG  \n",
            "  inflating: kupu/kupu_raja_limau/Kupu Raja Limau-28.JPG  \n",
            "  inflating: kupu/kupu_raja_limau/Kupu Raja Limau-29.JPG  \n",
            "  inflating: kupu/kupu_raja_limau/Kupu Raja Limau-3.jpg  \n",
            "  inflating: kupu/kupu_raja_limau/Kupu Raja Limau-30.JPG  \n",
            "  inflating: kupu/kupu_raja_limau/Kupu Raja Limau-31.JPG  \n",
            "  inflating: kupu/kupu_raja_limau/Kupu Raja Limau-32.JPG  \n",
            "  inflating: kupu/kupu_raja_limau/Kupu Raja Limau-33.JPG  \n",
            "  inflating: kupu/kupu_raja_limau/Kupu Raja Limau-34.JPG  \n",
            "  inflating: kupu/kupu_raja_limau/Kupu Raja Limau-35.JPG  \n",
            "  inflating: kupu/kupu_raja_limau/Kupu Raja Limau-36.JPG  \n",
            "  inflating: kupu/kupu_raja_limau/Kupu Raja Limau-37.JPG  \n",
            "  inflating: kupu/kupu_raja_limau/Kupu Raja Limau-38.JPG  \n",
            "  inflating: kupu/kupu_raja_limau/Kupu Raja Limau-39.JPG  \n",
            "  inflating: kupu/kupu_raja_limau/Kupu Raja Limau-4.jpg  \n",
            "  inflating: kupu/kupu_raja_limau/Kupu Raja Limau-40.JPG  \n",
            "  inflating: kupu/kupu_raja_limau/Kupu Raja Limau-41.jpg  \n",
            "  inflating: kupu/kupu_raja_limau/Kupu Raja Limau-42.jpg  \n",
            "  inflating: kupu/kupu_raja_limau/Kupu Raja Limau-43.jpg  \n",
            "  inflating: kupu/kupu_raja_limau/Kupu Raja Limau-44.jpg  \n",
            "  inflating: kupu/kupu_raja_limau/Kupu Raja Limau-45.jpg  \n",
            "  inflating: kupu/kupu_raja_limau/Kupu Raja Limau-46.jpg  \n",
            "  inflating: kupu/kupu_raja_limau/Kupu Raja Limau-47.jpg  \n",
            "  inflating: kupu/kupu_raja_limau/Kupu Raja Limau-48.jpg  \n",
            "  inflating: kupu/kupu_raja_limau/Kupu Raja Limau-49.JPG  \n",
            "  inflating: kupu/kupu_raja_limau/Kupu Raja Limau-5.jpg  \n",
            "  inflating: kupu/kupu_raja_limau/Kupu Raja Limau-50.JPG  \n",
            "  inflating: kupu/kupu_raja_limau/Kupu Raja Limau-51.JPG  \n",
            "  inflating: kupu/kupu_raja_limau/Kupu Raja Limau-52.JPG  \n",
            "  inflating: kupu/kupu_raja_limau/Kupu Raja Limau-53.JPG  \n",
            "  inflating: kupu/kupu_raja_limau/Kupu Raja Limau-54.JPG  \n",
            "  inflating: kupu/kupu_raja_limau/Kupu Raja Limau-55.JPG  \n",
            "  inflating: kupu/kupu_raja_limau/Kupu Raja Limau-56.JPG  \n",
            "  inflating: kupu/kupu_raja_limau/Kupu Raja Limau-57.JPG  \n",
            "  inflating: kupu/kupu_raja_limau/Kupu Raja Limau-58.JPG  \n",
            "  inflating: kupu/kupu_raja_limau/Kupu Raja Limau-59.JPG  \n",
            "  inflating: kupu/kupu_raja_limau/Kupu Raja Limau-6.jpg  \n",
            "  inflating: kupu/kupu_raja_limau/Kupu Raja Limau-60.jpg  \n",
            "  inflating: kupu/kupu_raja_limau/Kupu Raja Limau-61.jpg  \n",
            "  inflating: kupu/kupu_raja_limau/Kupu Raja Limau-62.jpg  \n",
            "  inflating: kupu/kupu_raja_limau/Kupu Raja Limau-63.jpg  \n",
            "  inflating: kupu/kupu_raja_limau/Kupu Raja Limau-64.jpg  \n",
            "  inflating: kupu/kupu_raja_limau/Kupu Raja Limau-65.jpg  \n",
            "  inflating: kupu/kupu_raja_limau/Kupu Raja Limau-66.JPG  \n",
            "  inflating: kupu/kupu_raja_limau/Kupu Raja Limau-67.JPG  \n",
            "  inflating: kupu/kupu_raja_limau/Kupu Raja Limau-68.JPG  \n",
            "  inflating: kupu/kupu_raja_limau/Kupu Raja Limau-69.JPG  \n",
            "  inflating: kupu/kupu_raja_limau/Kupu Raja Limau-7.jpg  \n",
            "  inflating: kupu/kupu_raja_limau/Kupu Raja Limau-70.JPG  \n",
            "  inflating: kupu/kupu_raja_limau/Kupu Raja Limau-71.JPG  \n",
            "  inflating: kupu/kupu_raja_limau/Kupu Raja Limau-72.JPG  \n",
            "  inflating: kupu/kupu_raja_limau/Kupu Raja Limau-73.JPG  \n",
            "  inflating: kupu/kupu_raja_limau/Kupu Raja Limau-74.JPG  \n",
            "  inflating: kupu/kupu_raja_limau/Kupu Raja Limau-75.JPG  \n",
            "  inflating: kupu/kupu_raja_limau/Kupu Raja Limau-76.JPG  \n",
            "  inflating: kupu/kupu_raja_limau/Kupu Raja Limau-77.JPG  \n",
            "  inflating: kupu/kupu_raja_limau/Kupu Raja Limau-78.JPG  \n",
            "  inflating: kupu/kupu_raja_limau/Kupu Raja Limau-79.JPG  \n",
            "  inflating: kupu/kupu_raja_limau/Kupu Raja Limau-8.jpg  \n",
            "  inflating: kupu/kupu_raja_limau/Kupu Raja Limau-80.JPG  \n",
            "  inflating: kupu/kupu_raja_limau/Kupu Raja Limau-81.JPG  \n",
            "  inflating: kupu/kupu_raja_limau/Kupu Raja Limau-82.JPG  \n",
            "  inflating: kupu/kupu_raja_limau/Kupu Raja Limau-83.jpg  \n",
            "  inflating: kupu/kupu_raja_limau/Kupu Raja Limau-84.JPG  \n",
            "  inflating: kupu/kupu_raja_limau/Kupu Raja Limau-85.JPG  \n",
            "  inflating: kupu/kupu_raja_limau/Kupu Raja Limau-86.JPG  \n",
            "  inflating: kupu/kupu_raja_limau/Kupu Raja Limau-87.JPG  \n",
            "  inflating: kupu/kupu_raja_limau/Kupu Raja Limau-88.JPG  \n",
            "  inflating: kupu/kupu_raja_limau/Kupu Raja Limau-89.JPG  \n",
            "  inflating: kupu/kupu_raja_limau/Kupu Raja Limau-9.JPG  \n",
            "  inflating: kupu/kupu_raja_limau/Kupu Raja Limau-90.JPG  \n",
            "  inflating: kupu/kupu_raja_limau/Kupu Raja Limau-91.JPG  \n",
            "  inflating: kupu/kupu_raja_limau/Kupu Raja Limau-92.JPG  \n",
            "  inflating: kupu/kupu_raja_limau/Kupu Raja Limau-93.JPG  \n",
            "  inflating: kupu/kupu_raja_limau/Kupu Raja Limau-94.JPG  \n",
            "  inflating: kupu/kupu_raja_limau/Kupu Raja Limau-95.JPG  \n",
            "  inflating: kupu/kupu_raja_limau/Kupu Raja Limau-96.jpg  \n",
            "  inflating: kupu/kupu_raja_limau/Kupu Raja Limau-97.jpg  \n",
            "  inflating: kupu/kupu_raja_limau/Kupu Raja Limau-98.jpg  \n",
            "  inflating: kupu/kupu_raja_limau/Kupu Raja Limau-99.jpg  \n"
          ]
        }
      ]
    },
    {
      "cell_type": "code",
      "source": [
        "import timm\n",
        "import torch\n",
        "import torch.nn as nn\n",
        "import torch.optim as optim\n",
        "from torch.utils.data import DataLoader\n",
        "from sklearn.metrics import classification_report\n",
        "import matplotlib.pyplot as plt\n",
        "from torchvision import transforms\n",
        "from sklearn.model_selection import train_test_split\n",
        "from sklearn.preprocessing import LabelEncoder\n",
        "from torch.utils.data import Dataset\n",
        "from PIL import Image\n",
        "import os"
      ],
      "metadata": {
        "id": "jSGpJgFPUIOx"
      },
      "execution_count": 36,
      "outputs": []
    },
    {
      "cell_type": "markdown",
      "source": [
        "## Preprocessing"
      ],
      "metadata": {
        "id": "FJl8VR57ite8"
      }
    },
    {
      "cell_type": "code",
      "source": [
        "class CustomImageDataset(Dataset):\n",
        "    def __init__(self, image_dir, transform=None):\n",
        "        self.image_dir = image_dir\n",
        "        self.transform = transform\n",
        "        self.image_labels = []\n",
        "        self.image_paths = []\n",
        "\n",
        "        for label in os.listdir(image_dir):\n",
        "            label_path = os.path.join(image_dir, label)\n",
        "            if os.path.isdir(label_path):\n",
        "                for filename in os.listdir(label_path):\n",
        "                    self.image_paths.append(os.path.join(label_path, filename))\n",
        "                    self.image_labels.append(label)\n",
        "\n",
        "        # Konversi label menjadi angka\n",
        "        self.label_encoder = LabelEncoder()\n",
        "        self.image_labels = self.label_encoder.fit_transform(self.image_labels)\n",
        "\n",
        "    def __len__(self):\n",
        "        return len(self.image_paths)\n",
        "\n",
        "    def __getitem__(self, idx):\n",
        "        img_path = self.image_paths[idx]\n",
        "        img = Image.open(img_path).convert('RGB')\n",
        "        label = self.image_labels[idx]\n",
        "\n",
        "        if self.transform:\n",
        "            img = self.transform(img)\n",
        "\n",
        "        return img, label"
      ],
      "metadata": {
        "id": "MqIGNJvoVEIR"
      },
      "execution_count": 37,
      "outputs": []
    },
    {
      "cell_type": "code",
      "source": [
        "image_dir = '/content/kupu'\n",
        "\n",
        "transform = transforms.Compose([\n",
        "    transforms.Resize((224, 224)),\n",
        "    transforms.ToTensor(),\n",
        "    transforms.Normalize(mean=[0.485, 0.456, 0.406], std=[0.229, 0.224, 0.225]),\n",
        "])"
      ],
      "metadata": {
        "id": "f-AAe_zbVMrf"
      },
      "execution_count": 38,
      "outputs": []
    },
    {
      "cell_type": "code",
      "source": [
        "dataset = CustomImageDataset(image_dir, transform)\n",
        "train_data, test_data = train_test_split(dataset, test_size=0.2, random_state=42)\n",
        "train_loader = DataLoader(train_data, batch_size=32, shuffle=True)\n",
        "test_loader = DataLoader(test_data, batch_size=32, shuffle=False)"
      ],
      "metadata": {
        "id": "i6k49VfCVghG"
      },
      "execution_count": 39,
      "outputs": []
    },
    {
      "cell_type": "markdown",
      "source": [
        "## Modelling"
      ],
      "metadata": {
        "id": "ZwkHCvVli3rw"
      }
    },
    {
      "cell_type": "code",
      "source": [
        "model = timm.create_model('convnext_tiny', pretrained=True)\n",
        "num_classes = len(set(dataset.image_labels))\n",
        "model.head.fc = nn.Linear(model.num_features, num_classes)"
      ],
      "metadata": {
        "id": "9JeDkFRgViwR"
      },
      "execution_count": 40,
      "outputs": []
    },
    {
      "cell_type": "code",
      "source": [
        "criterion = nn.CrossEntropyLoss()\n",
        "optimizer = optim.Adam(model.parameters(), lr=0.001)\n",
        "device = torch.device('cuda' if torch.cuda.is_available() else 'cpu')\n",
        "model = model.to(device)"
      ],
      "metadata": {
        "id": "PsW6O22qVpOd"
      },
      "execution_count": 41,
      "outputs": []
    },
    {
      "cell_type": "code",
      "source": [
        "num_epochs = 5\n",
        "train_losses = []\n",
        "test_accuracies = []\n",
        "\n",
        "for epoch in range(num_epochs):\n",
        "    model.train()\n",
        "    running_loss = 0.0\n",
        "\n",
        "    for inputs, labels in train_loader:\n",
        "        inputs, labels = inputs.to(device), labels.to(device)\n",
        "\n",
        "        optimizer.zero_grad()\n",
        "        outputs = model(inputs)\n",
        "        loss = criterion(outputs, labels)\n",
        "        loss.backward()\n",
        "        optimizer.step()\n",
        "\n",
        "        running_loss += loss.item()\n",
        "\n",
        "    train_loss = running_loss / len(train_loader)\n",
        "    train_losses.append(train_loss)\n",
        "\n",
        "    # Evaluasi\n",
        "    model.eval()\n",
        "    correct = 0\n",
        "    total = 0\n",
        "    with torch.no_grad():\n",
        "        for inputs, labels in test_loader:\n",
        "            inputs, labels = inputs.to(device), labels.to(device)\n",
        "            outputs = model(inputs)\n",
        "            _, predicted = torch.max(outputs, 1)\n",
        "            total += labels.size(0)\n",
        "            correct += (predicted == labels).sum().item()\n",
        "\n",
        "    test_accuracy = (correct / total) * 100\n",
        "    test_accuracies.append(test_accuracy)\n",
        "\n",
        "    print(f'Epoch [{epoch+1}/{num_epochs}], Loss: {train_loss:.4f}, Accuracy: {test_accuracy:.2f}%')"
      ],
      "metadata": {
        "id": "kH81nP-TV3vl",
        "colab": {
          "base_uri": "https://localhost:8080/"
        },
        "outputId": "45ef3d14-0630-46f6-a31a-ab817c578494"
      },
      "execution_count": 42,
      "outputs": [
        {
          "output_type": "stream",
          "name": "stdout",
          "text": [
            "Epoch [1/5], Loss: 3.3957, Accuracy: 8.12%\n",
            "Epoch [2/5], Loss: 2.1519, Accuracy: 13.12%\n",
            "Epoch [3/5], Loss: 2.1067, Accuracy: 9.38%\n",
            "Epoch [4/5], Loss: 2.0778, Accuracy: 8.12%\n",
            "Epoch [5/5], Loss: 2.1655, Accuracy: 8.12%\n"
          ]
        }
      ]
    },
    {
      "cell_type": "code",
      "source": [
        "model_save_path = \"/content/convnext_model.pth\"\n",
        "\n",
        "torch.save(model.state_dict(), model_save_path)"
      ],
      "metadata": {
        "id": "fnytD26RXFM8"
      },
      "execution_count": 43,
      "outputs": []
    },
    {
      "cell_type": "code",
      "source": [
        "import matplotlib.pyplot as plt\n",
        "\n",
        "fig, (ax1, ax2) = plt.subplots(1, 2, figsize=(12, 5))\n",
        "\n",
        "ax1.plot(range(1, num_epochs + 1), train_losses, color='tab:blue', label='Train Loss')\n",
        "ax1.set_xlabel('Epochs')\n",
        "ax1.set_ylabel('Loss')\n",
        "ax1.set_title('Train Loss')\n",
        "ax1.legend()\n",
        "\n",
        "ax2.plot(range(1, num_epochs + 1), test_accuracies, color='tab:green', label='Test Accuracy')\n",
        "ax2.set_xlabel('Epochs')\n",
        "ax2.set_ylabel('Accuracy (%)')\n",
        "ax2.set_title('Test Accuracy')\n",
        "ax2.legend()\n",
        "\n",
        "fig.tight_layout()\n",
        "\n",
        "plt.show()"
      ],
      "metadata": {
        "colab": {
          "base_uri": "https://localhost:8080/",
          "height": 478
        },
        "id": "uOqgO5bziybW",
        "outputId": "15c6cf03-2c54-43d2-b795-42c31116723a"
      },
      "execution_count": 44,
      "outputs": [
        {
          "output_type": "display_data",
          "data": {
            "text/plain": [
              "<Figure size 1200x500 with 2 Axes>"
            ],
            "image/png": "[encoded data removed]"
          },
          "metadata": {}
        }
      ]
    },
    {
      "cell_type": "code",
      "source": [
        "def evaluate_model(model, dataloader, device):\n",
        "    model.eval()\n",
        "    correct = 0\n",
        "    total = 0\n",
        "    all_labels = []\n",
        "    all_predictions = []\n",
        "\n",
        "    with torch.no_grad():\n",
        "        for images, labels in dataloader:\n",
        "            images, labels = images.to(device), labels.to(device)\n",
        "\n",
        "            outputs = model(images)\n",
        "            _, predicted = torch.max(outputs, 1)\n",
        "\n",
        "            all_labels.extend(labels.cpu().numpy())\n",
        "            all_predictions.extend(predicted.cpu().numpy())\n",
        "\n",
        "            correct += (predicted == labels).sum().item()\n",
        "            total += labels.size(0)\n",
        "\n",
        "    accuracy = correct / total * 100\n",
        "    report = classification_report(all_labels, all_predictions, target_names=list(label_map.keys()), output_dict=True)\n",
        "    precision = report['macro avg']['precision']\n",
        "    recall = report['macro avg']['recall']\n",
        "    f1 = report['macro avg']['f1-score']\n",
        "\n",
        "    return accuracy, precision, recall, f1"
      ],
      "metadata": {
        "id": "8EnS-bEti0VK"
      },
      "execution_count": 46,
      "outputs": []
    },
    {
      "cell_type": "code",
      "source": [
        "import warnings\n",
        "warnings.filterwarnings('ignore')\n",
        "\n",
        "final_accuracy, final_precision, final_recall, final_f1 = evaluate_model(model, test_loader, device)\n",
        "\n",
        "print(f\"Final Test Accuracy: {final_accuracy:.2f}%\")\n",
        "print(f\"Final Precision: {final_precision:.2f}%\")\n",
        "print(f\"Final Recall: {final_recall:.2f}%\")\n",
        "print(f\"Final F1-Score: {final_f1:.2f}%\")"
      ],
      "metadata": {
        "colab": {
          "base_uri": "https://localhost:8080/"
        },
        "id": "u479fpb4jiq6",
        "outputId": "c2997bfe-18bc-4a98-8653-979277c21617"
      },
      "execution_count": 49,
      "outputs": [
        {
          "output_type": "stream",
          "name": "stdout",
          "text": [
            "Final Test Accuracy: 8.12%\n",
            "Final Precision: 0.01%\n",
            "Final Recall: 0.12%\n",
            "Final F1-Score: 0.02%\n"
          ]
        }
      ]
    },
    {
      "cell_type": "markdown",
      "source": [
        "# Swin Transformer"
      ],
      "metadata": {
        "id": "QVSkqv0zke4A"
      }
    },
    {
      "cell_type": "code",
      "source": [
        "model_swin = timm.create_model('swin_tiny_patch4_window7_224', pretrained=True)\n",
        "num_classes = len(set(dataset.image_labels))\n",
        "model_swin.head = nn.Linear(model_swin.num_features, num_classes)"
      ],
      "metadata": {
        "id": "0gWpmrqJkm6Q"
      },
      "execution_count": 62,
      "outputs": []
    },
    {
      "cell_type": "code",
      "source": [
        "criterion = nn.CrossEntropyLoss()\n",
        "optimizer = optim.Adam(model_swin.parameters(), lr=0.001)\n",
        "device = torch.device('cuda' if torch.cuda.is_available() else 'cpu')\n",
        "model_swin = model_swin.to(device)"
      ],
      "metadata": {
        "id": "gynVZOPzkvuY"
      },
      "execution_count": 63,
      "outputs": []
    },
    {
      "cell_type": "code",
      "source": [
        "num_epochs = 5\n",
        "train_losses = []\n",
        "test_accuracies = []\n",
        "\n",
        "for epoch in range(num_epochs):\n",
        "    model.train()\n",
        "    running_loss = 0.0\n",
        "\n",
        "    for inputs, labels in train_loader:\n",
        "        inputs, labels = inputs.to(device), labels.to(device)\n",
        "\n",
        "        optimizer.zero_grad()\n",
        "        outputs = model(inputs)\n",
        "\n",
        "        # Get the class predictions by taking the maximum value along the class dimension (dim=1)\n",
        "        _, predicted = torch.max(outputs.data, 1)\n",
        "\n",
        "        loss = criterion(outputs, labels)\n",
        "        loss.backward()\n",
        "        optimizer.step()\n",
        "\n",
        "        running_loss += loss.item()\n",
        "\n",
        "    train_loss = running_loss / len(train_loader)\n",
        "    train_losses.append(train_loss)\n",
        "\n",
        "    # Evaluation phase\n",
        "    model.eval()\n",
        "    correct = 0\n",
        "    total = 0\n",
        "    all_preds = []\n",
        "    all_labels = []\n",
        "    with torch.no_grad():\n",
        "        for inputs, labels in test_loader:\n",
        "            inputs, labels = inputs.to(device), labels.to(device)\n",
        "            outputs = model(inputs)\n",
        "\n",
        "            # Get the class predictions for evaluation\n",
        "            _, predicted = torch.max(outputs.data, 1)\n",
        "\n",
        "            total += labels.size(0)\n",
        "            correct += (predicted == labels).sum().item()\n",
        "            all_preds.extend(predicted.cpu().numpy())\n",
        "            all_labels.extend(labels.cpu().numpy())\n",
        "\n",
        "    test_accuracy = (correct / total) * 100\n",
        "    test_accuracies.append(test_accuracy)\n",
        "\n",
        "    print(f'Epoch [{epoch+1}/{num_epochs}], Loss: {train_loss:.4f}, Accuracy: {test_accuracy:.2f}%')"
      ],
      "metadata": {
        "colab": {
          "base_uri": "https://localhost:8080/",
          "height": 426
        },
        "id": "5gvbV0S2k2VU",
        "outputId": "fc06c40d-0ceb-4bdf-9d19-1b53ada485d9"
      },
      "execution_count": 64,
      "outputs": [
        {
          "output_type": "error",
          "ename": "OutOfMemoryError",
          "evalue": "CUDA out of memory. Tried to allocate 38.00 MiB. GPU 0 has a total capacity of 14.75 GiB of which 19.06 MiB is free. Process 9048 has 14.73 GiB memory in use. Of the allocated memory 13.97 GiB is allocated by PyTorch, and 633.92 MiB is reserved by PyTorch but unallocated. If reserved but unallocated memory is large try setting PYTORCH_CUDA_ALLOC_CONF=expandable_segments:True to avoid fragmentation.  See documentation for Memory Management  (https://pytorch.org/docs/stable/notes/cuda.html#environment-variables)",
          "traceback": [
            "\u001b[0;31m---------------------------------------------------------------------------\u001b[0m",
            "\u001b[0;31mOutOfMemoryError\u001b[0m                          Traceback (most recent call last)",
            "\u001b[0;32m<ipython-input-64-ce5edee47ff0>\u001b[0m in \u001b[0;36m<cell line: 5>\u001b[0;34m()\u001b[0m\n\u001b[1;32m     11\u001b[0m \u001b[0;34m\u001b[0m\u001b[0m\n\u001b[1;32m     12\u001b[0m         \u001b[0moptimizer\u001b[0m\u001b[0;34m.\u001b[0m\u001b[0mzero_grad\u001b[0m\u001b[0;34m(\u001b[0m\u001b[0;34m)\u001b[0m\u001b[0;34m\u001b[0m\u001b[0;34m\u001b[0m\u001b[0m\n\u001b[0;32m---> 13\u001b[0;31m         \u001b[0moutputs\u001b[0m \u001b[0;34m=\u001b[0m \u001b[0mmodel\u001b[0m\u001b[0;34m(\u001b[0m\u001b[0minputs\u001b[0m\u001b[0;34m)\u001b[0m\u001b[0;34m\u001b[0m\u001b[0;34m\u001b[0m\u001b[0m\n\u001b[0m\u001b[1;32m     14\u001b[0m \u001b[0;34m\u001b[0m\u001b[0m\n\u001b[1;32m     15\u001b[0m         \u001b[0;31m# Get the class predictions by taking the maximum value along the class dimension (dim=1)\u001b[0m\u001b[0;34m\u001b[0m\u001b[0;34m\u001b[0m\u001b[0m\n",
            "\u001b[0;32m/usr/local/lib/python3.10/dist-packages/torch/nn/modules/module.py\u001b[0m in \u001b[0;36m_wrapped_call_impl\u001b[0;34m(self, *args, **kwargs)\u001b[0m\n\u001b[1;32m   1734\u001b[0m             \u001b[0;32mreturn\u001b[0m \u001b[0mself\u001b[0m\u001b[0;34m.\u001b[0m\u001b[0m_compiled_call_impl\u001b[0m\u001b[0;34m(\u001b[0m\u001b[0;34m*\u001b[0m\u001b[0margs\u001b[0m\u001b[0;34m,\u001b[0m \u001b[0;34m**\u001b[0m\u001b[0mkwargs\u001b[0m\u001b[0;34m)\u001b[0m  \u001b[0;31m# type: ignore[misc]\u001b[0m\u001b[0;34m\u001b[0m\u001b[0;34m\u001b[0m\u001b[0m\n\u001b[1;32m   1735\u001b[0m         \u001b[0;32melse\u001b[0m\u001b[0;34m:\u001b[0m\u001b[0;34m\u001b[0m\u001b[0;34m\u001b[0m\u001b[0m\n\u001b[0;32m-> 1736\u001b[0;31m             \u001b[0;32mreturn\u001b[0m \u001b[0mself\u001b[0m\u001b[0;34m.\u001b[0m\u001b[0m_call_impl\u001b[0m\u001b[0;34m(\u001b[0m\u001b[0;34m*\u001b[0m\u001b[0margs\u001b[0m\u001b[0;34m,\u001b[0m \u001b[0;34m**\u001b[0m\u001b[0mkwargs\u001b[0m\u001b[0;34m)\u001b[0m\u001b[0;34m\u001b[0m\u001b[0;34m\u001b[0m\u001b[0m\n\u001b[0m\u001b[1;32m   1737\u001b[0m \u001b[0;34m\u001b[0m\u001b[0m\n\u001b[1;32m   1738\u001b[0m     \u001b[0;31m# torchrec tests the code consistency with the following code\u001b[0m\u001b[0;34m\u001b[0m\u001b[0;34m\u001b[0m\u001b[0m\n",
            "\u001b[0;32m/usr/local/lib/python3.10/dist-packages/torch/nn/modules/module.py\u001b[0m in \u001b[0;36m_call_impl\u001b[0;34m(self, *args, **kwargs)\u001b[0m\n\u001b[1;32m   1745\u001b[0m                 \u001b[0;32mor\u001b[0m \u001b[0m_global_backward_pre_hooks\u001b[0m \u001b[0;32mor\u001b[0m \u001b[0m_global_backward_hooks\u001b[0m\u001b[0;34m\u001b[0m\u001b[0;34m\u001b[0m\u001b[0m\n\u001b[1;32m   1746\u001b[0m                 or _global_forward_hooks or _global_forward_pre_hooks):\n\u001b[0;32m-> 1747\u001b[0;31m             \u001b[0;32mreturn\u001b[0m \u001b[0mforward_call\u001b[0m\u001b[0;34m(\u001b[0m\u001b[0;34m*\u001b[0m\u001b[0margs\u001b[0m\u001b[0;34m,\u001b[0m \u001b[0;34m**\u001b[0m\u001b[0mkwargs\u001b[0m\u001b[0;34m)\u001b[0m\u001b[0;34m\u001b[0m\u001b[0;34m\u001b[0m\u001b[0m\n\u001b[0m\u001b[1;32m   1748\u001b[0m \u001b[0;34m\u001b[0m\u001b[0m\n\u001b[1;32m   1749\u001b[0m         \u001b[0mresult\u001b[0m \u001b[0;34m=\u001b[0m \u001b[0;32mNone\u001b[0m\u001b[0;34m\u001b[0m\u001b[0;34m\u001b[0m\u001b[0m\n",
            "\u001b[0;32m/usr/local/lib/python3.10/dist-packages/timm/models/swin_transformer.py\u001b[0m in \u001b[0;36mforward\u001b[0;34m(self, x)\u001b[0m\n\u001b[1;32m    836\u001b[0m \u001b[0;34m\u001b[0m\u001b[0m\n\u001b[1;32m    837\u001b[0m     \u001b[0;32mdef\u001b[0m \u001b[0mforward\u001b[0m\u001b[0;34m(\u001b[0m\u001b[0mself\u001b[0m\u001b[0;34m,\u001b[0m \u001b[0mx\u001b[0m\u001b[0;34m)\u001b[0m\u001b[0;34m:\u001b[0m\u001b[0;34m\u001b[0m\u001b[0;34m\u001b[0m\u001b[0m\n\u001b[0;32m--> 838\u001b[0;31m         \u001b[0mx\u001b[0m \u001b[0;34m=\u001b[0m \u001b[0mself\u001b[0m\u001b[0;34m.\u001b[0m\u001b[0mforward_features\u001b[0m\u001b[0;34m(\u001b[0m\u001b[0mx\u001b[0m\u001b[0;34m)\u001b[0m\u001b[0;34m\u001b[0m\u001b[0;34m\u001b[0m\u001b[0m\n\u001b[0m\u001b[1;32m    839\u001b[0m         \u001b[0mx\u001b[0m \u001b[0;34m=\u001b[0m \u001b[0mself\u001b[0m\u001b[0;34m.\u001b[0m\u001b[0mforward_head\u001b[0m\u001b[0;34m(\u001b[0m\u001b[0mx\u001b[0m\u001b[0;34m)\u001b[0m\u001b[0;34m\u001b[0m\u001b[0;34m\u001b[0m\u001b[0m\n\u001b[1;32m    840\u001b[0m         \u001b[0;32mreturn\u001b[0m \u001b[0mx\u001b[0m\u001b[0;34m\u001b[0m\u001b[0;34m\u001b[0m\u001b[0m\n",
            "\u001b[0;32m/usr/local/lib/python3.10/dist-packages/timm/models/swin_transformer.py\u001b[0m in \u001b[0;36mforward_features\u001b[0;34m(self, x)\u001b[0m\n\u001b[1;32m    828\u001b[0m     \u001b[0;32mdef\u001b[0m \u001b[0mforward_features\u001b[0m\u001b[0;34m(\u001b[0m\u001b[0mself\u001b[0m\u001b[0;34m,\u001b[0m \u001b[0mx\u001b[0m\u001b[0;34m)\u001b[0m\u001b[0;34m:\u001b[0m\u001b[0;34m\u001b[0m\u001b[0;34m\u001b[0m\u001b[0m\n\u001b[1;32m    829\u001b[0m         \u001b[0mx\u001b[0m \u001b[0;34m=\u001b[0m \u001b[0mself\u001b[0m\u001b[0;34m.\u001b[0m\u001b[0mpatch_embed\u001b[0m\u001b[0;34m(\u001b[0m\u001b[0mx\u001b[0m\u001b[0;34m)\u001b[0m\u001b[0;34m\u001b[0m\u001b[0;34m\u001b[0m\u001b[0m\n\u001b[0;32m--> 830\u001b[0;31m         \u001b[0mx\u001b[0m \u001b[0;34m=\u001b[0m \u001b[0mself\u001b[0m\u001b[0;34m.\u001b[0m\u001b[0mlayers\u001b[0m\u001b[0;34m(\u001b[0m\u001b[0mx\u001b[0m\u001b[0;34m)\u001b[0m\u001b[0;34m\u001b[0m\u001b[0;34m\u001b[0m\u001b[0m\n\u001b[0m\u001b[1;32m    831\u001b[0m         \u001b[0mx\u001b[0m \u001b[0;34m=\u001b[0m \u001b[0mself\u001b[0m\u001b[0;34m.\u001b[0m\u001b[0mnorm\u001b[0m\u001b[0;34m(\u001b[0m\u001b[0mx\u001b[0m\u001b[0;34m)\u001b[0m\u001b[0;34m\u001b[0m\u001b[0;34m\u001b[0m\u001b[0m\n\u001b[1;32m    832\u001b[0m         \u001b[0;32mreturn\u001b[0m \u001b[0mx\u001b[0m\u001b[0;34m\u001b[0m\u001b[0;34m\u001b[0m\u001b[0m\n",
            "\u001b[0;32m/usr/local/lib/python3.10/dist-packages/torch/nn/modules/module.py\u001b[0m in \u001b[0;36m_wrapped_call_impl\u001b[0;34m(self, *args, **kwargs)\u001b[0m\n\u001b[1;32m   1734\u001b[0m             \u001b[0;32mreturn\u001b[0m \u001b[0mself\u001b[0m\u001b[0;34m.\u001b[0m\u001b[0m_compiled_call_impl\u001b[0m\u001b[0;34m(\u001b[0m\u001b[0;34m*\u001b[0m\u001b[0margs\u001b[0m\u001b[0;34m,\u001b[0m \u001b[0;34m**\u001b[0m\u001b[0mkwargs\u001b[0m\u001b[0;34m)\u001b[0m  \u001b[0;31m# type: ignore[misc]\u001b[0m\u001b[0;34m\u001b[0m\u001b[0;34m\u001b[0m\u001b[0m\n\u001b[1;32m   1735\u001b[0m         \u001b[0;32melse\u001b[0m\u001b[0;34m:\u001b[0m\u001b[0;34m\u001b[0m\u001b[0;34m\u001b[0m\u001b[0m\n\u001b[0;32m-> 1736\u001b[0;31m             \u001b[0;32mreturn\u001b[0m \u001b[0mself\u001b[0m\u001b[0;34m.\u001b[0m\u001b[0m_call_impl\u001b[0m\u001b[0;34m(\u001b[0m\u001b[0;34m*\u001b[0m\u001b[0margs\u001b[0m\u001b[0;34m,\u001b[0m \u001b[0;34m**\u001b[0m\u001b[0mkwargs\u001b[0m\u001b[0;34m)\u001b[0m\u001b[0;34m\u001b[0m\u001b[0;34m\u001b[0m\u001b[0m\n\u001b[0m\u001b[1;32m   1737\u001b[0m \u001b[0;34m\u001b[0m\u001b[0m\n\u001b[1;32m   1738\u001b[0m     \u001b[0;31m# torchrec tests the code consistency with the following code\u001b[0m\u001b[0;34m\u001b[0m\u001b[0;34m\u001b[0m\u001b[0m\n",
            "\u001b[0;32m/usr/local/lib/python3.10/dist-packages/torch/nn/modules/module.py\u001b[0m in \u001b[0;36m_call_impl\u001b[0;34m(self, *args, **kwargs)\u001b[0m\n\u001b[1;32m   1745\u001b[0m                 \u001b[0;32mor\u001b[0m \u001b[0m_global_backward_pre_hooks\u001b[0m \u001b[0;32mor\u001b[0m \u001b[0m_global_backward_hooks\u001b[0m\u001b[0;34m\u001b[0m\u001b[0;34m\u001b[0m\u001b[0m\n\u001b[1;32m   1746\u001b[0m                 or _global_forward_hooks or _global_forward_pre_hooks):\n\u001b[0;32m-> 1747\u001b[0;31m             \u001b[0;32mreturn\u001b[0m \u001b[0mforward_call\u001b[0m\u001b[0;34m(\u001b[0m\u001b[0;34m*\u001b[0m\u001b[0margs\u001b[0m\u001b[0;34m,\u001b[0m \u001b[0;34m**\u001b[0m\u001b[0mkwargs\u001b[0m\u001b[0;34m)\u001b[0m\u001b[0;34m\u001b[0m\u001b[0;34m\u001b[0m\u001b[0m\n\u001b[0m\u001b[1;32m   1748\u001b[0m \u001b[0;34m\u001b[0m\u001b[0m\n\u001b[1;32m   1749\u001b[0m         \u001b[0mresult\u001b[0m \u001b[0;34m=\u001b[0m \u001b[0;32mNone\u001b[0m\u001b[0;34m\u001b[0m\u001b[0;34m\u001b[0m\u001b[0m\n",
            "\u001b[0;32m/usr/local/lib/python3.10/dist-packages/torch/nn/modules/container.py\u001b[0m in \u001b[0;36mforward\u001b[0;34m(self, input)\u001b[0m\n\u001b[1;32m    248\u001b[0m     \u001b[0;32mdef\u001b[0m \u001b[0mforward\u001b[0m\u001b[0;34m(\u001b[0m\u001b[0mself\u001b[0m\u001b[0;34m,\u001b[0m \u001b[0minput\u001b[0m\u001b[0;34m)\u001b[0m\u001b[0;34m:\u001b[0m\u001b[0;34m\u001b[0m\u001b[0;34m\u001b[0m\u001b[0m\n\u001b[1;32m    249\u001b[0m         \u001b[0;32mfor\u001b[0m \u001b[0mmodule\u001b[0m \u001b[0;32min\u001b[0m \u001b[0mself\u001b[0m\u001b[0;34m:\u001b[0m\u001b[0;34m\u001b[0m\u001b[0;34m\u001b[0m\u001b[0m\n\u001b[0;32m--> 250\u001b[0;31m             \u001b[0minput\u001b[0m \u001b[0;34m=\u001b[0m \u001b[0mmodule\u001b[0m\u001b[0;34m(\u001b[0m\u001b[0minput\u001b[0m\u001b[0;34m)\u001b[0m\u001b[0;34m\u001b[0m\u001b[0;34m\u001b[0m\u001b[0m\n\u001b[0m\u001b[1;32m    251\u001b[0m         \u001b[0;32mreturn\u001b[0m \u001b[0minput\u001b[0m\u001b[0;34m\u001b[0m\u001b[0;34m\u001b[0m\u001b[0m\n\u001b[1;32m    252\u001b[0m \u001b[0;34m\u001b[0m\u001b[0m\n",
            "\u001b[0;32m/usr/local/lib/python3.10/dist-packages/torch/nn/modules/module.py\u001b[0m in \u001b[0;36m_wrapped_call_impl\u001b[0;34m(self, *args, **kwargs)\u001b[0m\n\u001b[1;32m   1734\u001b[0m             \u001b[0;32mreturn\u001b[0m \u001b[0mself\u001b[0m\u001b[0;34m.\u001b[0m\u001b[0m_compiled_call_impl\u001b[0m\u001b[0;34m(\u001b[0m\u001b[0;34m*\u001b[0m\u001b[0margs\u001b[0m\u001b[0;34m,\u001b[0m \u001b[0;34m**\u001b[0m\u001b[0mkwargs\u001b[0m\u001b[0;34m)\u001b[0m  \u001b[0;31m# type: ignore[misc]\u001b[0m\u001b[0;34m\u001b[0m\u001b[0;34m\u001b[0m\u001b[0m\n\u001b[1;32m   1735\u001b[0m         \u001b[0;32melse\u001b[0m\u001b[0;34m:\u001b[0m\u001b[0;34m\u001b[0m\u001b[0;34m\u001b[0m\u001b[0m\n\u001b[0;32m-> 1736\u001b[0;31m             \u001b[0;32mreturn\u001b[0m \u001b[0mself\u001b[0m\u001b[0;34m.\u001b[0m\u001b[0m_call_impl\u001b[0m\u001b[0;34m(\u001b[0m\u001b[0;34m*\u001b[0m\u001b[0margs\u001b[0m\u001b[0;34m,\u001b[0m \u001b[0;34m**\u001b[0m\u001b[0mkwargs\u001b[0m\u001b[0;34m)\u001b[0m\u001b[0;34m\u001b[0m\u001b[0;34m\u001b[0m\u001b[0m\n\u001b[0m\u001b[1;32m   1737\u001b[0m \u001b[0;34m\u001b[0m\u001b[0m\n\u001b[1;32m   1738\u001b[0m     \u001b[0;31m# torchrec tests the code consistency with the following code\u001b[0m\u001b[0;34m\u001b[0m\u001b[0;34m\u001b[0m\u001b[0m\n",
            "\u001b[0;32m/usr/local/lib/python3.10/dist-packages/torch/nn/modules/module.py\u001b[0m in \u001b[0;36m_call_impl\u001b[0;34m(self, *args, **kwargs)\u001b[0m\n\u001b[1;32m   1745\u001b[0m                 \u001b[0;32mor\u001b[0m \u001b[0m_global_backward_pre_hooks\u001b[0m \u001b[0;32mor\u001b[0m \u001b[0m_global_backward_hooks\u001b[0m\u001b[0;34m\u001b[0m\u001b[0;34m\u001b[0m\u001b[0m\n\u001b[1;32m   1746\u001b[0m                 or _global_forward_hooks or _global_forward_pre_hooks):\n\u001b[0;32m-> 1747\u001b[0;31m             \u001b[0;32mreturn\u001b[0m \u001b[0mforward_call\u001b[0m\u001b[0;34m(\u001b[0m\u001b[0;34m*\u001b[0m\u001b[0margs\u001b[0m\u001b[0;34m,\u001b[0m \u001b[0;34m**\u001b[0m\u001b[0mkwargs\u001b[0m\u001b[0;34m)\u001b[0m\u001b[0;34m\u001b[0m\u001b[0;34m\u001b[0m\u001b[0m\n\u001b[0m\u001b[1;32m   1748\u001b[0m \u001b[0;34m\u001b[0m\u001b[0m\n\u001b[1;32m   1749\u001b[0m         \u001b[0mresult\u001b[0m \u001b[0;34m=\u001b[0m \u001b[0;32mNone\u001b[0m\u001b[0;34m\u001b[0m\u001b[0;34m\u001b[0m\u001b[0m\n",
            "\u001b[0;32m/usr/local/lib/python3.10/dist-packages/timm/models/swin_transformer.py\u001b[0m in \u001b[0;36mforward\u001b[0;34m(self, x)\u001b[0m\n\u001b[1;32m    557\u001b[0m             \u001b[0mx\u001b[0m \u001b[0;34m=\u001b[0m \u001b[0mcheckpoint_seq\u001b[0m\u001b[0;34m(\u001b[0m\u001b[0mself\u001b[0m\u001b[0;34m.\u001b[0m\u001b[0mblocks\u001b[0m\u001b[0;34m,\u001b[0m \u001b[0mx\u001b[0m\u001b[0;34m)\u001b[0m\u001b[0;34m\u001b[0m\u001b[0;34m\u001b[0m\u001b[0m\n\u001b[1;32m    558\u001b[0m         \u001b[0;32melse\u001b[0m\u001b[0;34m:\u001b[0m\u001b[0;34m\u001b[0m\u001b[0;34m\u001b[0m\u001b[0m\n\u001b[0;32m--> 559\u001b[0;31m             \u001b[0mx\u001b[0m \u001b[0;34m=\u001b[0m \u001b[0mself\u001b[0m\u001b[0;34m.\u001b[0m\u001b[0mblocks\u001b[0m\u001b[0;34m(\u001b[0m\u001b[0mx\u001b[0m\u001b[0;34m)\u001b[0m\u001b[0;34m\u001b[0m\u001b[0;34m\u001b[0m\u001b[0m\n\u001b[0m\u001b[1;32m    560\u001b[0m         \u001b[0;32mreturn\u001b[0m \u001b[0mx\u001b[0m\u001b[0;34m\u001b[0m\u001b[0;34m\u001b[0m\u001b[0m\n\u001b[1;32m    561\u001b[0m \u001b[0;34m\u001b[0m\u001b[0m\n",
            "\u001b[0;32m/usr/local/lib/python3.10/dist-packages/torch/nn/modules/module.py\u001b[0m in \u001b[0;36m_wrapped_call_impl\u001b[0;34m(self, *args, **kwargs)\u001b[0m\n\u001b[1;32m   1734\u001b[0m             \u001b[0;32mreturn\u001b[0m \u001b[0mself\u001b[0m\u001b[0;34m.\u001b[0m\u001b[0m_compiled_call_impl\u001b[0m\u001b[0;34m(\u001b[0m\u001b[0;34m*\u001b[0m\u001b[0margs\u001b[0m\u001b[0;34m,\u001b[0m \u001b[0;34m**\u001b[0m\u001b[0mkwargs\u001b[0m\u001b[0;34m)\u001b[0m  \u001b[0;31m# type: ignore[misc]\u001b[0m\u001b[0;34m\u001b[0m\u001b[0;34m\u001b[0m\u001b[0m\n\u001b[1;32m   1735\u001b[0m         \u001b[0;32melse\u001b[0m\u001b[0;34m:\u001b[0m\u001b[0;34m\u001b[0m\u001b[0;34m\u001b[0m\u001b[0m\n\u001b[0;32m-> 1736\u001b[0;31m             \u001b[0;32mreturn\u001b[0m \u001b[0mself\u001b[0m\u001b[0;34m.\u001b[0m\u001b[0m_call_impl\u001b[0m\u001b[0;34m(\u001b[0m\u001b[0;34m*\u001b[0m\u001b[0margs\u001b[0m\u001b[0;34m,\u001b[0m \u001b[0;34m**\u001b[0m\u001b[0mkwargs\u001b[0m\u001b[0;34m)\u001b[0m\u001b[0;34m\u001b[0m\u001b[0;34m\u001b[0m\u001b[0m\n\u001b[0m\u001b[1;32m   1737\u001b[0m \u001b[0;34m\u001b[0m\u001b[0m\n\u001b[1;32m   1738\u001b[0m     \u001b[0;31m# torchrec tests the code consistency with the following code\u001b[0m\u001b[0;34m\u001b[0m\u001b[0;34m\u001b[0m\u001b[0m\n",
            "\u001b[0;32m/usr/local/lib/python3.10/dist-packages/torch/nn/modules/module.py\u001b[0m in \u001b[0;36m_call_impl\u001b[0;34m(self, *args, **kwargs)\u001b[0m\n\u001b[1;32m   1745\u001b[0m                 \u001b[0;32mor\u001b[0m \u001b[0m_global_backward_pre_hooks\u001b[0m \u001b[0;32mor\u001b[0m \u001b[0m_global_backward_hooks\u001b[0m\u001b[0;34m\u001b[0m\u001b[0;34m\u001b[0m\u001b[0m\n\u001b[1;32m   1746\u001b[0m                 or _global_forward_hooks or _global_forward_pre_hooks):\n\u001b[0;32m-> 1747\u001b[0;31m             \u001b[0;32mreturn\u001b[0m \u001b[0mforward_call\u001b[0m\u001b[0;34m(\u001b[0m\u001b[0;34m*\u001b[0m\u001b[0margs\u001b[0m\u001b[0;34m,\u001b[0m \u001b[0;34m**\u001b[0m\u001b[0mkwargs\u001b[0m\u001b[0;34m)\u001b[0m\u001b[0;34m\u001b[0m\u001b[0;34m\u001b[0m\u001b[0m\n\u001b[0m\u001b[1;32m   1748\u001b[0m \u001b[0;34m\u001b[0m\u001b[0m\n\u001b[1;32m   1749\u001b[0m         \u001b[0mresult\u001b[0m \u001b[0;34m=\u001b[0m \u001b[0;32mNone\u001b[0m\u001b[0;34m\u001b[0m\u001b[0;34m\u001b[0m\u001b[0m\n",
            "\u001b[0;32m/usr/local/lib/python3.10/dist-packages/torch/nn/modules/container.py\u001b[0m in \u001b[0;36mforward\u001b[0;34m(self, input)\u001b[0m\n\u001b[1;32m    248\u001b[0m     \u001b[0;32mdef\u001b[0m \u001b[0mforward\u001b[0m\u001b[0;34m(\u001b[0m\u001b[0mself\u001b[0m\u001b[0;34m,\u001b[0m \u001b[0minput\u001b[0m\u001b[0;34m)\u001b[0m\u001b[0;34m:\u001b[0m\u001b[0;34m\u001b[0m\u001b[0;34m\u001b[0m\u001b[0m\n\u001b[1;32m    249\u001b[0m         \u001b[0;32mfor\u001b[0m \u001b[0mmodule\u001b[0m \u001b[0;32min\u001b[0m \u001b[0mself\u001b[0m\u001b[0;34m:\u001b[0m\u001b[0;34m\u001b[0m\u001b[0;34m\u001b[0m\u001b[0m\n\u001b[0;32m--> 250\u001b[0;31m             \u001b[0minput\u001b[0m \u001b[0;34m=\u001b[0m \u001b[0mmodule\u001b[0m\u001b[0;34m(\u001b[0m\u001b[0minput\u001b[0m\u001b[0;34m)\u001b[0m\u001b[0;34m\u001b[0m\u001b[0;34m\u001b[0m\u001b[0m\n\u001b[0m\u001b[1;32m    251\u001b[0m         \u001b[0;32mreturn\u001b[0m \u001b[0minput\u001b[0m\u001b[0;34m\u001b[0m\u001b[0;34m\u001b[0m\u001b[0m\n\u001b[1;32m    252\u001b[0m \u001b[0;34m\u001b[0m\u001b[0m\n",
            "\u001b[0;32m/usr/local/lib/python3.10/dist-packages/torch/nn/modules/module.py\u001b[0m in \u001b[0;36m_wrapped_call_impl\u001b[0;34m(self, *args, **kwargs)\u001b[0m\n\u001b[1;32m   1734\u001b[0m             \u001b[0;32mreturn\u001b[0m \u001b[0mself\u001b[0m\u001b[0;34m.\u001b[0m\u001b[0m_compiled_call_impl\u001b[0m\u001b[0;34m(\u001b[0m\u001b[0;34m*\u001b[0m\u001b[0margs\u001b[0m\u001b[0;34m,\u001b[0m \u001b[0;34m**\u001b[0m\u001b[0mkwargs\u001b[0m\u001b[0;34m)\u001b[0m  \u001b[0;31m# type: ignore[misc]\u001b[0m\u001b[0;34m\u001b[0m\u001b[0;34m\u001b[0m\u001b[0m\n\u001b[1;32m   1735\u001b[0m         \u001b[0;32melse\u001b[0m\u001b[0;34m:\u001b[0m\u001b[0;34m\u001b[0m\u001b[0;34m\u001b[0m\u001b[0m\n\u001b[0;32m-> 1736\u001b[0;31m             \u001b[0;32mreturn\u001b[0m \u001b[0mself\u001b[0m\u001b[0;34m.\u001b[0m\u001b[0m_call_impl\u001b[0m\u001b[0;34m(\u001b[0m\u001b[0;34m*\u001b[0m\u001b[0margs\u001b[0m\u001b[0;34m,\u001b[0m \u001b[0;34m**\u001b[0m\u001b[0mkwargs\u001b[0m\u001b[0;34m)\u001b[0m\u001b[0;34m\u001b[0m\u001b[0;34m\u001b[0m\u001b[0m\n\u001b[0m\u001b[1;32m   1737\u001b[0m \u001b[0;34m\u001b[0m\u001b[0m\n\u001b[1;32m   1738\u001b[0m     \u001b[0;31m# torchrec tests the code consistency with the following code\u001b[0m\u001b[0;34m\u001b[0m\u001b[0;34m\u001b[0m\u001b[0m\n",
            "\u001b[0;32m/usr/local/lib/python3.10/dist-packages/torch/nn/modules/module.py\u001b[0m in \u001b[0;36m_call_impl\u001b[0;34m(self, *args, **kwargs)\u001b[0m\n\u001b[1;32m   1745\u001b[0m                 \u001b[0;32mor\u001b[0m \u001b[0m_global_backward_pre_hooks\u001b[0m \u001b[0;32mor\u001b[0m \u001b[0m_global_backward_hooks\u001b[0m\u001b[0;34m\u001b[0m\u001b[0;34m\u001b[0m\u001b[0m\n\u001b[1;32m   1746\u001b[0m                 or _global_forward_hooks or _global_forward_pre_hooks):\n\u001b[0;32m-> 1747\u001b[0;31m             \u001b[0;32mreturn\u001b[0m \u001b[0mforward_call\u001b[0m\u001b[0;34m(\u001b[0m\u001b[0;34m*\u001b[0m\u001b[0margs\u001b[0m\u001b[0;34m,\u001b[0m \u001b[0;34m**\u001b[0m\u001b[0mkwargs\u001b[0m\u001b[0;34m)\u001b[0m\u001b[0;34m\u001b[0m\u001b[0;34m\u001b[0m\u001b[0m\n\u001b[0m\u001b[1;32m   1748\u001b[0m \u001b[0;34m\u001b[0m\u001b[0m\n\u001b[1;32m   1749\u001b[0m         \u001b[0mresult\u001b[0m \u001b[0;34m=\u001b[0m \u001b[0;32mNone\u001b[0m\u001b[0;34m\u001b[0m\u001b[0;34m\u001b[0m\u001b[0m\n",
            "\u001b[0;32m/usr/local/lib/python3.10/dist-packages/timm/models/swin_transformer.py\u001b[0m in \u001b[0;36mforward\u001b[0;34m(self, x)\u001b[0m\n\u001b[1;32m    404\u001b[0m     \u001b[0;32mdef\u001b[0m \u001b[0mforward\u001b[0m\u001b[0;34m(\u001b[0m\u001b[0mself\u001b[0m\u001b[0;34m,\u001b[0m \u001b[0mx\u001b[0m\u001b[0;34m)\u001b[0m\u001b[0;34m:\u001b[0m\u001b[0;34m\u001b[0m\u001b[0;34m\u001b[0m\u001b[0m\n\u001b[1;32m    405\u001b[0m         \u001b[0mB\u001b[0m\u001b[0;34m,\u001b[0m \u001b[0mH\u001b[0m\u001b[0;34m,\u001b[0m \u001b[0mW\u001b[0m\u001b[0;34m,\u001b[0m \u001b[0mC\u001b[0m \u001b[0;34m=\u001b[0m \u001b[0mx\u001b[0m\u001b[0;34m.\u001b[0m\u001b[0mshape\u001b[0m\u001b[0;34m\u001b[0m\u001b[0;34m\u001b[0m\u001b[0m\n\u001b[0;32m--> 406\u001b[0;31m         \u001b[0mx\u001b[0m \u001b[0;34m=\u001b[0m \u001b[0mx\u001b[0m \u001b[0;34m+\u001b[0m \u001b[0mself\u001b[0m\u001b[0;34m.\u001b[0m\u001b[0mdrop_path1\u001b[0m\u001b[0;34m(\u001b[0m\u001b[0mself\u001b[0m\u001b[0;34m.\u001b[0m\u001b[0m_attn\u001b[0m\u001b[0;34m(\u001b[0m\u001b[0mself\u001b[0m\u001b[0;34m.\u001b[0m\u001b[0mnorm1\u001b[0m\u001b[0;34m(\u001b[0m\u001b[0mx\u001b[0m\u001b[0;34m)\u001b[0m\u001b[0;34m)\u001b[0m\u001b[0;34m)\u001b[0m\u001b[0;34m\u001b[0m\u001b[0;34m\u001b[0m\u001b[0m\n\u001b[0m\u001b[1;32m    407\u001b[0m         \u001b[0mx\u001b[0m \u001b[0;34m=\u001b[0m \u001b[0mx\u001b[0m\u001b[0;34m.\u001b[0m\u001b[0mreshape\u001b[0m\u001b[0;34m(\u001b[0m\u001b[0mB\u001b[0m\u001b[0;34m,\u001b[0m \u001b[0;34m-\u001b[0m\u001b[0;36m1\u001b[0m\u001b[0;34m,\u001b[0m \u001b[0mC\u001b[0m\u001b[0;34m)\u001b[0m\u001b[0;34m\u001b[0m\u001b[0;34m\u001b[0m\u001b[0m\n\u001b[1;32m    408\u001b[0m         \u001b[0mx\u001b[0m \u001b[0;34m=\u001b[0m \u001b[0mx\u001b[0m \u001b[0;34m+\u001b[0m \u001b[0mself\u001b[0m\u001b[0;34m.\u001b[0m\u001b[0mdrop_path2\u001b[0m\u001b[0;34m(\u001b[0m\u001b[0mself\u001b[0m\u001b[0;34m.\u001b[0m\u001b[0mmlp\u001b[0m\u001b[0;34m(\u001b[0m\u001b[0mself\u001b[0m\u001b[0;34m.\u001b[0m\u001b[0mnorm2\u001b[0m\u001b[0;34m(\u001b[0m\u001b[0mx\u001b[0m\u001b[0;34m)\u001b[0m\u001b[0;34m)\u001b[0m\u001b[0;34m)\u001b[0m\u001b[0;34m\u001b[0m\u001b[0;34m\u001b[0m\u001b[0m\n",
            "\u001b[0;32m/usr/local/lib/python3.10/dist-packages/timm/models/swin_transformer.py\u001b[0m in \u001b[0;36m_attn\u001b[0;34m(self, x)\u001b[0m\n\u001b[1;32m    369\u001b[0m         \u001b[0mhas_shift\u001b[0m \u001b[0;34m=\u001b[0m \u001b[0many\u001b[0m\u001b[0;34m(\u001b[0m\u001b[0mself\u001b[0m\u001b[0;34m.\u001b[0m\u001b[0mshift_size\u001b[0m\u001b[0;34m)\u001b[0m\u001b[0;34m\u001b[0m\u001b[0;34m\u001b[0m\u001b[0m\n\u001b[1;32m    370\u001b[0m         \u001b[0;32mif\u001b[0m \u001b[0mhas_shift\u001b[0m\u001b[0;34m:\u001b[0m\u001b[0;34m\u001b[0m\u001b[0;34m\u001b[0m\u001b[0m\n\u001b[0;32m--> 371\u001b[0;31m             \u001b[0mshifted_x\u001b[0m \u001b[0;34m=\u001b[0m \u001b[0mtorch\u001b[0m\u001b[0;34m.\u001b[0m\u001b[0mroll\u001b[0m\u001b[0;34m(\u001b[0m\u001b[0mx\u001b[0m\u001b[0;34m,\u001b[0m \u001b[0mshifts\u001b[0m\u001b[0;34m=\u001b[0m\u001b[0;34m(\u001b[0m\u001b[0;34m-\u001b[0m\u001b[0mself\u001b[0m\u001b[0;34m.\u001b[0m\u001b[0mshift_size\u001b[0m\u001b[0;34m[\u001b[0m\u001b[0;36m0\u001b[0m\u001b[0;34m]\u001b[0m\u001b[0;34m,\u001b[0m \u001b[0;34m-\u001b[0m\u001b[0mself\u001b[0m\u001b[0;34m.\u001b[0m\u001b[0mshift_size\u001b[0m\u001b[0;34m[\u001b[0m\u001b[0;36m1\u001b[0m\u001b[0;34m]\u001b[0m\u001b[0;34m)\u001b[0m\u001b[0;34m,\u001b[0m \u001b[0mdims\u001b[0m\u001b[0;34m=\u001b[0m\u001b[0;34m(\u001b[0m\u001b[0;36m1\u001b[0m\u001b[0;34m,\u001b[0m \u001b[0;36m2\u001b[0m\u001b[0;34m)\u001b[0m\u001b[0;34m)\u001b[0m\u001b[0;34m\u001b[0m\u001b[0;34m\u001b[0m\u001b[0m\n\u001b[0m\u001b[1;32m    372\u001b[0m         \u001b[0;32melse\u001b[0m\u001b[0;34m:\u001b[0m\u001b[0;34m\u001b[0m\u001b[0;34m\u001b[0m\u001b[0m\n\u001b[1;32m    373\u001b[0m             \u001b[0mshifted_x\u001b[0m \u001b[0;34m=\u001b[0m \u001b[0mx\u001b[0m\u001b[0;34m\u001b[0m\u001b[0;34m\u001b[0m\u001b[0m\n",
            "\u001b[0;31mOutOfMemoryError\u001b[0m: CUDA out of memory. Tried to allocate 38.00 MiB. GPU 0 has a total capacity of 14.75 GiB of which 19.06 MiB is free. Process 9048 has 14.73 GiB memory in use. Of the allocated memory 13.97 GiB is allocated by PyTorch, and 633.92 MiB is reserved by PyTorch but unallocated. If reserved but unallocated memory is large try setting PYTORCH_CUDA_ALLOC_CONF=expandable_segments:True to avoid fragmentation.  See documentation for Memory Management  (https://pytorch.org/docs/stable/notes/cuda.html#environment-variables)"
          ]
        }
      ]
    }
  ]
}